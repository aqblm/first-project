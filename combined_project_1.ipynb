{
 "cells": [
  {
   "cell_type": "markdown",
   "id": "bb879231",
   "metadata": {},
   "source": [
    "# Сборный проект - 1 \"Анализ продаж компьютерных игр\""
   ]
  },
  {
   "cell_type": "markdown",
   "id": "6fa5e2a4",
   "metadata": {},
   "source": [
    "# Описание проекта\n",
    "Вы работаете в интернет-магазине «Стримчик», который продаёт по всему миру\n",
    "компьютерные игры. Из открытых источников доступны исторические данные о\n",
    "продажах игр, оценки пользователей и экспертов, жанры и платформы\n",
    "(например, Xbox или PlayStation). Вам нужно выявить определяющие успешность\n",
    "игры закономерности. Это позволит сделать ставку на потенциально популярный\n",
    "продукт и спланировать рекламные кампании.\n",
    "\n",
    "Перед вами данные до 2016 года. Представим, что сейчас декабрь 2016 г., и вы\n",
    "планируете кампанию на 2017-й. Нужно отработать принцип работы с данными.\n",
    "Неважно, прогнозируете ли вы продажи на 2017 год по данным 2016-го или же\n",
    "2027-й — по данным 2026 года.\n",
    "\n",
    "В наборе данных попадается аббревиатура ESRB (Entertainment Software Rating\n",
    "Board) — это ассоциация, определяющая возрастной рейтинг компьютерных\n",
    "игр. ESRB оценивает игровой контент и присваивает ему подходящую возрастную\n",
    "категорию, например, «Для взрослых», «Для детей младшего возраста» или «Для\n",
    "подростков»."
   ]
  },
  {
   "cell_type": "markdown",
   "id": "c369c59e",
   "metadata": {},
   "source": [
    "# Описание данных\n",
    "\n",
    "* `Name` — название игры\n",
    "* `Platform` — платформа\n",
    "* `Year_of_Release` — год выпуска\n",
    "* `Genre` — жанр игры\n",
    "* `NA_sales` — продажи в Северной Америке (миллионы проданных копий)\n",
    "* `EU_sales` — продажи в Европе (миллионы проданных копий)\n",
    "* `JP_sales` — продажи в Японии (миллионы проданных копий)\n",
    "* `Other_sales` — продажи в других странах (миллионы проданных копий)\n",
    "* `Critic_Score` — оценка критиков (максимум 100)\n",
    "* `User_Score` — оценка пользователей (максимум 10)\n",
    "* `Rating` — рейтинг от организации ESRB (англ. Entertainment Software Rating\n",
    "Board). Эта ассоциация определяет рейтинг компьютерных игр и присваивает\n",
    "им подходящую возрастную категорию.\n",
    "\n",
    "    Данные за 2016 год могут быть неполными."
   ]
  },
  {
   "cell_type": "code",
   "execution_count": 1,
   "id": "be3ef202",
   "metadata": {},
   "outputs": [],
   "source": [
    "# загрузка библиотек\n",
    "import pandas as pd\n",
    "\n",
    "%matplotlib inline\n",
    "from matplotlib import pyplot as plt\n",
    "\n",
    "import seaborn as sns\n",
    "import numpy as np\n",
    "\n",
    "import math \n",
    "\n",
    "from scipy import stats as st\n",
    "\n",
    "import warnings\n",
    "warnings.filterwarnings(action='ignore')"
   ]
  },
  {
   "cell_type": "markdown",
   "id": "783ab02d",
   "metadata": {},
   "source": [
    "# Обзор данных"
   ]
  },
  {
   "cell_type": "code",
   "execution_count": 2,
   "id": "691ddb9f",
   "metadata": {},
   "outputs": [],
   "source": [
    "# импортируем данные\n",
    "# Импорт данных из csv-файла\n",
    "try:\n",
    "   df = pd.read_csv('/datasets/games.csv')\n",
    "except:\n",
    "   df = pd.read_csv('C:/Users/Марина/Documents/Онлайн курсы/!Яндекс.Практикум/Сборный проект 1/games.csv')"
   ]
  },
  {
   "cell_type": "code",
   "execution_count": 3,
   "id": "8ab46c3b",
   "metadata": {},
   "outputs": [
    {
     "data": {
      "text/html": [
       "<div>\n",
       "<style scoped>\n",
       "    .dataframe tbody tr th:only-of-type {\n",
       "        vertical-align: middle;\n",
       "    }\n",
       "\n",
       "    .dataframe tbody tr th {\n",
       "        vertical-align: top;\n",
       "    }\n",
       "\n",
       "    .dataframe thead th {\n",
       "        text-align: right;\n",
       "    }\n",
       "</style>\n",
       "<table border=\"1\" class=\"dataframe\">\n",
       "  <thead>\n",
       "    <tr style=\"text-align: right;\">\n",
       "      <th></th>\n",
       "      <th>Name</th>\n",
       "      <th>Platform</th>\n",
       "      <th>Year_of_Release</th>\n",
       "      <th>Genre</th>\n",
       "      <th>NA_sales</th>\n",
       "      <th>EU_sales</th>\n",
       "      <th>JP_sales</th>\n",
       "      <th>Other_sales</th>\n",
       "      <th>Critic_Score</th>\n",
       "      <th>User_Score</th>\n",
       "      <th>Rating</th>\n",
       "    </tr>\n",
       "  </thead>\n",
       "  <tbody>\n",
       "    <tr>\n",
       "      <th>0</th>\n",
       "      <td>Wii Sports</td>\n",
       "      <td>Wii</td>\n",
       "      <td>2006.0</td>\n",
       "      <td>Sports</td>\n",
       "      <td>41.36</td>\n",
       "      <td>28.96</td>\n",
       "      <td>3.77</td>\n",
       "      <td>8.45</td>\n",
       "      <td>76.0</td>\n",
       "      <td>8</td>\n",
       "      <td>E</td>\n",
       "    </tr>\n",
       "    <tr>\n",
       "      <th>1</th>\n",
       "      <td>Super Mario Bros.</td>\n",
       "      <td>NES</td>\n",
       "      <td>1985.0</td>\n",
       "      <td>Platform</td>\n",
       "      <td>29.08</td>\n",
       "      <td>3.58</td>\n",
       "      <td>6.81</td>\n",
       "      <td>0.77</td>\n",
       "      <td>NaN</td>\n",
       "      <td>NaN</td>\n",
       "      <td>NaN</td>\n",
       "    </tr>\n",
       "    <tr>\n",
       "      <th>2</th>\n",
       "      <td>Mario Kart Wii</td>\n",
       "      <td>Wii</td>\n",
       "      <td>2008.0</td>\n",
       "      <td>Racing</td>\n",
       "      <td>15.68</td>\n",
       "      <td>12.76</td>\n",
       "      <td>3.79</td>\n",
       "      <td>3.29</td>\n",
       "      <td>82.0</td>\n",
       "      <td>8.3</td>\n",
       "      <td>E</td>\n",
       "    </tr>\n",
       "    <tr>\n",
       "      <th>3</th>\n",
       "      <td>Wii Sports Resort</td>\n",
       "      <td>Wii</td>\n",
       "      <td>2009.0</td>\n",
       "      <td>Sports</td>\n",
       "      <td>15.61</td>\n",
       "      <td>10.93</td>\n",
       "      <td>3.28</td>\n",
       "      <td>2.95</td>\n",
       "      <td>80.0</td>\n",
       "      <td>8</td>\n",
       "      <td>E</td>\n",
       "    </tr>\n",
       "    <tr>\n",
       "      <th>4</th>\n",
       "      <td>Pokemon Red/Pokemon Blue</td>\n",
       "      <td>GB</td>\n",
       "      <td>1996.0</td>\n",
       "      <td>Role-Playing</td>\n",
       "      <td>11.27</td>\n",
       "      <td>8.89</td>\n",
       "      <td>10.22</td>\n",
       "      <td>1.00</td>\n",
       "      <td>NaN</td>\n",
       "      <td>NaN</td>\n",
       "      <td>NaN</td>\n",
       "    </tr>\n",
       "    <tr>\n",
       "      <th>5</th>\n",
       "      <td>Tetris</td>\n",
       "      <td>GB</td>\n",
       "      <td>1989.0</td>\n",
       "      <td>Puzzle</td>\n",
       "      <td>23.20</td>\n",
       "      <td>2.26</td>\n",
       "      <td>4.22</td>\n",
       "      <td>0.58</td>\n",
       "      <td>NaN</td>\n",
       "      <td>NaN</td>\n",
       "      <td>NaN</td>\n",
       "    </tr>\n",
       "    <tr>\n",
       "      <th>6</th>\n",
       "      <td>New Super Mario Bros.</td>\n",
       "      <td>DS</td>\n",
       "      <td>2006.0</td>\n",
       "      <td>Platform</td>\n",
       "      <td>11.28</td>\n",
       "      <td>9.14</td>\n",
       "      <td>6.50</td>\n",
       "      <td>2.88</td>\n",
       "      <td>89.0</td>\n",
       "      <td>8.5</td>\n",
       "      <td>E</td>\n",
       "    </tr>\n",
       "    <tr>\n",
       "      <th>7</th>\n",
       "      <td>Wii Play</td>\n",
       "      <td>Wii</td>\n",
       "      <td>2006.0</td>\n",
       "      <td>Misc</td>\n",
       "      <td>13.96</td>\n",
       "      <td>9.18</td>\n",
       "      <td>2.93</td>\n",
       "      <td>2.84</td>\n",
       "      <td>58.0</td>\n",
       "      <td>6.6</td>\n",
       "      <td>E</td>\n",
       "    </tr>\n",
       "    <tr>\n",
       "      <th>8</th>\n",
       "      <td>New Super Mario Bros. Wii</td>\n",
       "      <td>Wii</td>\n",
       "      <td>2009.0</td>\n",
       "      <td>Platform</td>\n",
       "      <td>14.44</td>\n",
       "      <td>6.94</td>\n",
       "      <td>4.70</td>\n",
       "      <td>2.24</td>\n",
       "      <td>87.0</td>\n",
       "      <td>8.4</td>\n",
       "      <td>E</td>\n",
       "    </tr>\n",
       "    <tr>\n",
       "      <th>9</th>\n",
       "      <td>Duck Hunt</td>\n",
       "      <td>NES</td>\n",
       "      <td>1984.0</td>\n",
       "      <td>Shooter</td>\n",
       "      <td>26.93</td>\n",
       "      <td>0.63</td>\n",
       "      <td>0.28</td>\n",
       "      <td>0.47</td>\n",
       "      <td>NaN</td>\n",
       "      <td>NaN</td>\n",
       "      <td>NaN</td>\n",
       "    </tr>\n",
       "  </tbody>\n",
       "</table>\n",
       "</div>"
      ],
      "text/plain": [
       "                        Name Platform  Year_of_Release         Genre  \\\n",
       "0                 Wii Sports      Wii           2006.0        Sports   \n",
       "1          Super Mario Bros.      NES           1985.0      Platform   \n",
       "2             Mario Kart Wii      Wii           2008.0        Racing   \n",
       "3          Wii Sports Resort      Wii           2009.0        Sports   \n",
       "4   Pokemon Red/Pokemon Blue       GB           1996.0  Role-Playing   \n",
       "5                     Tetris       GB           1989.0        Puzzle   \n",
       "6      New Super Mario Bros.       DS           2006.0      Platform   \n",
       "7                   Wii Play      Wii           2006.0          Misc   \n",
       "8  New Super Mario Bros. Wii      Wii           2009.0      Platform   \n",
       "9                  Duck Hunt      NES           1984.0       Shooter   \n",
       "\n",
       "   NA_sales  EU_sales  JP_sales  Other_sales  Critic_Score User_Score Rating  \n",
       "0     41.36     28.96      3.77         8.45          76.0          8      E  \n",
       "1     29.08      3.58      6.81         0.77           NaN        NaN    NaN  \n",
       "2     15.68     12.76      3.79         3.29          82.0        8.3      E  \n",
       "3     15.61     10.93      3.28         2.95          80.0          8      E  \n",
       "4     11.27      8.89     10.22         1.00           NaN        NaN    NaN  \n",
       "5     23.20      2.26      4.22         0.58           NaN        NaN    NaN  \n",
       "6     11.28      9.14      6.50         2.88          89.0        8.5      E  \n",
       "7     13.96      9.18      2.93         2.84          58.0        6.6      E  \n",
       "8     14.44      6.94      4.70         2.24          87.0        8.4      E  \n",
       "9     26.93      0.63      0.28         0.47           NaN        NaN    NaN  "
      ]
     },
     "execution_count": 3,
     "metadata": {},
     "output_type": "execute_result"
    }
   ],
   "source": [
    "df.head(10)"
   ]
  },
  {
   "cell_type": "code",
   "execution_count": 4,
   "id": "16675ee6",
   "metadata": {},
   "outputs": [
    {
     "name": "stdout",
     "output_type": "stream",
     "text": [
      "<class 'pandas.core.frame.DataFrame'>\n",
      "RangeIndex: 16715 entries, 0 to 16714\n",
      "Data columns (total 11 columns):\n",
      " #   Column           Non-Null Count  Dtype  \n",
      "---  ------           --------------  -----  \n",
      " 0   Name             16713 non-null  object \n",
      " 1   Platform         16715 non-null  object \n",
      " 2   Year_of_Release  16446 non-null  float64\n",
      " 3   Genre            16713 non-null  object \n",
      " 4   NA_sales         16715 non-null  float64\n",
      " 5   EU_sales         16715 non-null  float64\n",
      " 6   JP_sales         16715 non-null  float64\n",
      " 7   Other_sales      16715 non-null  float64\n",
      " 8   Critic_Score     8137 non-null   float64\n",
      " 9   User_Score       10014 non-null  object \n",
      " 10  Rating           9949 non-null   object \n",
      "dtypes: float64(6), object(5)\n",
      "memory usage: 1.4+ MB\n"
     ]
    }
   ],
   "source": [
    "#обзор количества ненулевых значений в столбцах и типов данных\n",
    "df.info()"
   ]
  },
  {
   "cell_type": "code",
   "execution_count": 5,
   "id": "7b460979",
   "metadata": {},
   "outputs": [
    {
     "data": {
      "text/plain": [
       "Name                  2\n",
       "Platform              0\n",
       "Year_of_Release     269\n",
       "Genre                 2\n",
       "NA_sales              0\n",
       "EU_sales              0\n",
       "JP_sales              0\n",
       "Other_sales           0\n",
       "Critic_Score       8578\n",
       "User_Score         6701\n",
       "Rating             6766\n",
       "dtype: int64"
      ]
     },
     "execution_count": 5,
     "metadata": {},
     "output_type": "execute_result"
    }
   ],
   "source": [
    "# Количество пропущенных значений в каждом столбце\n",
    "df.isna().sum()"
   ]
  },
  {
   "cell_type": "code",
   "execution_count": 6,
   "id": "2e259203",
   "metadata": {},
   "outputs": [
    {
     "data": {
      "text/plain": [
       "0"
      ]
     },
     "execution_count": 6,
     "metadata": {},
     "output_type": "execute_result"
    }
   ],
   "source": [
    "# Просмотр количества дублирующихся строк\n",
    "df.duplicated().sum()"
   ]
  },
  {
   "cell_type": "code",
   "execution_count": 7,
   "id": "b82d4610",
   "metadata": {
    "scrolled": true
   },
   "outputs": [
    {
     "data": {
      "text/plain": [
       "11560"
      ]
     },
     "execution_count": 7,
     "metadata": {},
     "output_type": "execute_result"
    }
   ],
   "source": [
    "# просмотр количества уникальных значений в столбце с названием игр\n",
    "len(df['Name'].unique())"
   ]
  },
  {
   "cell_type": "code",
   "execution_count": 8,
   "id": "57aa971f",
   "metadata": {
    "scrolled": true
   },
   "outputs": [
    {
     "data": {
      "text/plain": [
       "array([' Beyblade Burst', ' Fire Emblem Fates', \" Frozen: Olaf's Quest\",\n",
       "       ..., 'wwe Smackdown vs. Raw 2006', '¡Shin Chan Flipa en colores!',\n",
       "       nan], dtype=object)"
      ]
     },
     "execution_count": 8,
     "metadata": {},
     "output_type": "execute_result"
    }
   ],
   "source": [
    "df['Name'].sort_values().unique()"
   ]
  },
  {
   "cell_type": "markdown",
   "id": "abefbad9",
   "metadata": {},
   "source": [
    "Некоторые наименования начинаются с пробела."
   ]
  },
  {
   "cell_type": "markdown",
   "id": "c7e4eafa",
   "metadata": {},
   "source": [
    "Всего 11560 наименований, а строк в датафрейме всего 16715. Вызовем строки с дублирующимися наименованиями игр."
   ]
  },
  {
   "cell_type": "code",
   "execution_count": 9,
   "id": "2ed303cd",
   "metadata": {},
   "outputs": [
    {
     "data": {
      "text/html": [
       "<div>\n",
       "<style scoped>\n",
       "    .dataframe tbody tr th:only-of-type {\n",
       "        vertical-align: middle;\n",
       "    }\n",
       "\n",
       "    .dataframe tbody tr th {\n",
       "        vertical-align: top;\n",
       "    }\n",
       "\n",
       "    .dataframe thead th {\n",
       "        text-align: right;\n",
       "    }\n",
       "</style>\n",
       "<table border=\"1\" class=\"dataframe\">\n",
       "  <thead>\n",
       "    <tr style=\"text-align: right;\">\n",
       "      <th></th>\n",
       "      <th>Name</th>\n",
       "      <th>Platform</th>\n",
       "      <th>Year_of_Release</th>\n",
       "      <th>Genre</th>\n",
       "      <th>NA_sales</th>\n",
       "      <th>EU_sales</th>\n",
       "      <th>JP_sales</th>\n",
       "      <th>Other_sales</th>\n",
       "      <th>Critic_Score</th>\n",
       "      <th>User_Score</th>\n",
       "      <th>Rating</th>\n",
       "    </tr>\n",
       "  </thead>\n",
       "  <tbody>\n",
       "    <tr>\n",
       "      <th>3862</th>\n",
       "      <td>Frozen: Olaf's Quest</td>\n",
       "      <td>DS</td>\n",
       "      <td>2013.0</td>\n",
       "      <td>Platform</td>\n",
       "      <td>0.21</td>\n",
       "      <td>0.26</td>\n",
       "      <td>0.00</td>\n",
       "      <td>0.04</td>\n",
       "      <td>NaN</td>\n",
       "      <td>NaN</td>\n",
       "      <td>NaN</td>\n",
       "    </tr>\n",
       "    <tr>\n",
       "      <th>9507</th>\n",
       "      <td>007: Quantum of Solace</td>\n",
       "      <td>DS</td>\n",
       "      <td>2008.0</td>\n",
       "      <td>Action</td>\n",
       "      <td>0.11</td>\n",
       "      <td>0.01</td>\n",
       "      <td>0.00</td>\n",
       "      <td>0.01</td>\n",
       "      <td>65.0</td>\n",
       "      <td>tbd</td>\n",
       "      <td>T</td>\n",
       "    </tr>\n",
       "    <tr>\n",
       "      <th>4475</th>\n",
       "      <td>007: Quantum of Solace</td>\n",
       "      <td>PS2</td>\n",
       "      <td>2008.0</td>\n",
       "      <td>Action</td>\n",
       "      <td>0.17</td>\n",
       "      <td>0.00</td>\n",
       "      <td>0.00</td>\n",
       "      <td>0.26</td>\n",
       "      <td>NaN</td>\n",
       "      <td>NaN</td>\n",
       "      <td>NaN</td>\n",
       "    </tr>\n",
       "    <tr>\n",
       "      <th>1785</th>\n",
       "      <td>007: Quantum of Solace</td>\n",
       "      <td>PS3</td>\n",
       "      <td>2008.0</td>\n",
       "      <td>Action</td>\n",
       "      <td>0.43</td>\n",
       "      <td>0.51</td>\n",
       "      <td>0.02</td>\n",
       "      <td>0.19</td>\n",
       "      <td>65.0</td>\n",
       "      <td>6.6</td>\n",
       "      <td>T</td>\n",
       "    </tr>\n",
       "    <tr>\n",
       "      <th>3120</th>\n",
       "      <td>007: Quantum of Solace</td>\n",
       "      <td>Wii</td>\n",
       "      <td>2008.0</td>\n",
       "      <td>Action</td>\n",
       "      <td>0.29</td>\n",
       "      <td>0.28</td>\n",
       "      <td>0.01</td>\n",
       "      <td>0.07</td>\n",
       "      <td>54.0</td>\n",
       "      <td>7.5</td>\n",
       "      <td>T</td>\n",
       "    </tr>\n",
       "    <tr>\n",
       "      <th>...</th>\n",
       "      <td>...</td>\n",
       "      <td>...</td>\n",
       "      <td>...</td>\n",
       "      <td>...</td>\n",
       "      <td>...</td>\n",
       "      <td>...</td>\n",
       "      <td>...</td>\n",
       "      <td>...</td>\n",
       "      <td>...</td>\n",
       "      <td>...</td>\n",
       "      <td>...</td>\n",
       "    </tr>\n",
       "    <tr>\n",
       "      <th>3304</th>\n",
       "      <td>pro evolution soccer 2011</td>\n",
       "      <td>X360</td>\n",
       "      <td>2010.0</td>\n",
       "      <td>Sports</td>\n",
       "      <td>0.09</td>\n",
       "      <td>0.44</td>\n",
       "      <td>0.00</td>\n",
       "      <td>0.07</td>\n",
       "      <td>79.0</td>\n",
       "      <td>5.9</td>\n",
       "      <td>E</td>\n",
       "    </tr>\n",
       "    <tr>\n",
       "      <th>4664</th>\n",
       "      <td>pro evolution soccer 2011</td>\n",
       "      <td>PS2</td>\n",
       "      <td>2010.0</td>\n",
       "      <td>Sports</td>\n",
       "      <td>0.04</td>\n",
       "      <td>0.21</td>\n",
       "      <td>0.05</td>\n",
       "      <td>0.11</td>\n",
       "      <td>NaN</td>\n",
       "      <td>6.7</td>\n",
       "      <td>E</td>\n",
       "    </tr>\n",
       "    <tr>\n",
       "      <th>2583</th>\n",
       "      <td>pro evolution soccer 2011</td>\n",
       "      <td>PSP</td>\n",
       "      <td>2010.0</td>\n",
       "      <td>Sports</td>\n",
       "      <td>0.05</td>\n",
       "      <td>0.30</td>\n",
       "      <td>0.29</td>\n",
       "      <td>0.16</td>\n",
       "      <td>74.0</td>\n",
       "      <td>5.8</td>\n",
       "      <td>E</td>\n",
       "    </tr>\n",
       "    <tr>\n",
       "      <th>15612</th>\n",
       "      <td>uDraw Studio: Instant Artist</td>\n",
       "      <td>X360</td>\n",
       "      <td>2011.0</td>\n",
       "      <td>Misc</td>\n",
       "      <td>0.01</td>\n",
       "      <td>0.01</td>\n",
       "      <td>0.00</td>\n",
       "      <td>0.00</td>\n",
       "      <td>54.0</td>\n",
       "      <td>5.7</td>\n",
       "      <td>E</td>\n",
       "    </tr>\n",
       "    <tr>\n",
       "      <th>14244</th>\n",
       "      <td>NaN</td>\n",
       "      <td>GEN</td>\n",
       "      <td>1993.0</td>\n",
       "      <td>NaN</td>\n",
       "      <td>0.00</td>\n",
       "      <td>0.00</td>\n",
       "      <td>0.03</td>\n",
       "      <td>0.00</td>\n",
       "      <td>NaN</td>\n",
       "      <td>NaN</td>\n",
       "      <td>NaN</td>\n",
       "    </tr>\n",
       "  </tbody>\n",
       "</table>\n",
       "<p>5155 rows × 11 columns</p>\n",
       "</div>"
      ],
      "text/plain": [
       "                               Name Platform  Year_of_Release     Genre  \\\n",
       "3862           Frozen: Olaf's Quest       DS           2013.0  Platform   \n",
       "9507         007: Quantum of Solace       DS           2008.0    Action   \n",
       "4475         007: Quantum of Solace      PS2           2008.0    Action   \n",
       "1785         007: Quantum of Solace      PS3           2008.0    Action   \n",
       "3120         007: Quantum of Solace      Wii           2008.0    Action   \n",
       "...                             ...      ...              ...       ...   \n",
       "3304      pro evolution soccer 2011     X360           2010.0    Sports   \n",
       "4664      pro evolution soccer 2011      PS2           2010.0    Sports   \n",
       "2583      pro evolution soccer 2011      PSP           2010.0    Sports   \n",
       "15612  uDraw Studio: Instant Artist     X360           2011.0      Misc   \n",
       "14244                           NaN      GEN           1993.0       NaN   \n",
       "\n",
       "       NA_sales  EU_sales  JP_sales  Other_sales  Critic_Score User_Score  \\\n",
       "3862       0.21      0.26      0.00         0.04           NaN        NaN   \n",
       "9507       0.11      0.01      0.00         0.01          65.0        tbd   \n",
       "4475       0.17      0.00      0.00         0.26           NaN        NaN   \n",
       "1785       0.43      0.51      0.02         0.19          65.0        6.6   \n",
       "3120       0.29      0.28      0.01         0.07          54.0        7.5   \n",
       "...         ...       ...       ...          ...           ...        ...   \n",
       "3304       0.09      0.44      0.00         0.07          79.0        5.9   \n",
       "4664       0.04      0.21      0.05         0.11           NaN        6.7   \n",
       "2583       0.05      0.30      0.29         0.16          74.0        5.8   \n",
       "15612      0.01      0.01      0.00         0.00          54.0        5.7   \n",
       "14244      0.00      0.00      0.03         0.00           NaN        NaN   \n",
       "\n",
       "      Rating  \n",
       "3862     NaN  \n",
       "9507       T  \n",
       "4475     NaN  \n",
       "1785       T  \n",
       "3120       T  \n",
       "...      ...  \n",
       "3304       E  \n",
       "4664       E  \n",
       "2583       E  \n",
       "15612      E  \n",
       "14244    NaN  \n",
       "\n",
       "[5155 rows x 11 columns]"
      ]
     },
     "execution_count": 9,
     "metadata": {},
     "output_type": "execute_result"
    }
   ],
   "source": [
    "df[df['Name'].duplicated()].sort_values('Name')"
   ]
  },
  {
   "cell_type": "markdown",
   "id": "3eb2d26d",
   "metadata": {},
   "source": [
    "Наличие дублирующихся наименований игр связано с тем, что одна и та же игра могла выйти сразу на нескольких платформах."
   ]
  },
  {
   "cell_type": "code",
   "execution_count": 10,
   "id": "ce4b55e0",
   "metadata": {},
   "outputs": [
    {
     "data": {
      "text/html": [
       "<div>\n",
       "<style scoped>\n",
       "    .dataframe tbody tr th:only-of-type {\n",
       "        vertical-align: middle;\n",
       "    }\n",
       "\n",
       "    .dataframe tbody tr th {\n",
       "        vertical-align: top;\n",
       "    }\n",
       "\n",
       "    .dataframe thead th {\n",
       "        text-align: right;\n",
       "    }\n",
       "</style>\n",
       "<table border=\"1\" class=\"dataframe\">\n",
       "  <thead>\n",
       "    <tr style=\"text-align: right;\">\n",
       "      <th></th>\n",
       "      <th>Name</th>\n",
       "      <th>Platform</th>\n",
       "      <th>Year_of_Release</th>\n",
       "      <th>Genre</th>\n",
       "      <th>NA_sales</th>\n",
       "      <th>EU_sales</th>\n",
       "      <th>JP_sales</th>\n",
       "      <th>Other_sales</th>\n",
       "      <th>Critic_Score</th>\n",
       "      <th>User_Score</th>\n",
       "      <th>Rating</th>\n",
       "    </tr>\n",
       "  </thead>\n",
       "  <tbody>\n",
       "    <tr>\n",
       "      <th>659</th>\n",
       "      <td>NaN</td>\n",
       "      <td>GEN</td>\n",
       "      <td>1993.0</td>\n",
       "      <td>NaN</td>\n",
       "      <td>1.78</td>\n",
       "      <td>0.53</td>\n",
       "      <td>0.00</td>\n",
       "      <td>0.08</td>\n",
       "      <td>NaN</td>\n",
       "      <td>NaN</td>\n",
       "      <td>NaN</td>\n",
       "    </tr>\n",
       "    <tr>\n",
       "      <th>14244</th>\n",
       "      <td>NaN</td>\n",
       "      <td>GEN</td>\n",
       "      <td>1993.0</td>\n",
       "      <td>NaN</td>\n",
       "      <td>0.00</td>\n",
       "      <td>0.00</td>\n",
       "      <td>0.03</td>\n",
       "      <td>0.00</td>\n",
       "      <td>NaN</td>\n",
       "      <td>NaN</td>\n",
       "      <td>NaN</td>\n",
       "    </tr>\n",
       "  </tbody>\n",
       "</table>\n",
       "</div>"
      ],
      "text/plain": [
       "      Name Platform  Year_of_Release Genre  NA_sales  EU_sales  JP_sales  \\\n",
       "659    NaN      GEN           1993.0   NaN      1.78      0.53      0.00   \n",
       "14244  NaN      GEN           1993.0   NaN      0.00      0.00      0.03   \n",
       "\n",
       "       Other_sales  Critic_Score User_Score Rating  \n",
       "659           0.08           NaN        NaN    NaN  \n",
       "14244         0.00           NaN        NaN    NaN  "
      ]
     },
     "execution_count": 10,
     "metadata": {},
     "output_type": "execute_result"
    }
   ],
   "source": [
    "# Вызов строк с пропуском в названии игр\n",
    "df[df['Name'].isna()]"
   ]
  },
  {
   "cell_type": "code",
   "execution_count": 11,
   "id": "7f80b365",
   "metadata": {},
   "outputs": [
    {
     "data": {
      "text/plain": [
       "array(['2600', '3DO', '3DS', 'DC', 'DS', 'GB', 'GBA', 'GC', 'GEN', 'GG',\n",
       "       'N64', 'NES', 'NG', 'PC', 'PCFX', 'PS', 'PS2', 'PS3', 'PS4', 'PSP',\n",
       "       'PSV', 'SAT', 'SCD', 'SNES', 'TG16', 'WS', 'Wii', 'WiiU', 'X360',\n",
       "       'XB', 'XOne'], dtype=object)"
      ]
     },
     "execution_count": 11,
     "metadata": {},
     "output_type": "execute_result"
    }
   ],
   "source": [
    "# Вызов списка уникальных зачений в столбце с названиями платформ\n",
    "df['Platform'].sort_values().unique()"
   ]
  },
  {
   "cell_type": "code",
   "execution_count": 12,
   "id": "ba43e8eb",
   "metadata": {},
   "outputs": [
    {
     "data": {
      "text/plain": [
       "31"
      ]
     },
     "execution_count": 12,
     "metadata": {},
     "output_type": "execute_result"
    }
   ],
   "source": [
    "# Вызов количества платформ в датафрейме\n",
    "len(df['Platform'].unique())"
   ]
  },
  {
   "cell_type": "code",
   "execution_count": 13,
   "id": "c76def8d",
   "metadata": {},
   "outputs": [
    {
     "data": {
      "text/plain": [
       "array(['Action', 'Adventure', 'Fighting', 'Misc', 'Platform', 'Puzzle',\n",
       "       'Racing', 'Role-Playing', 'Shooter', 'Simulation', 'Sports',\n",
       "       'Strategy', nan], dtype=object)"
      ]
     },
     "execution_count": 13,
     "metadata": {},
     "output_type": "execute_result"
    }
   ],
   "source": [
    "# Вызов списка уникальных значений в столбце с жанрами\n",
    "df['Genre'].sort_values().unique()"
   ]
  },
  {
   "cell_type": "code",
   "execution_count": 14,
   "id": "e77b3c07",
   "metadata": {},
   "outputs": [
    {
     "data": {
      "text/plain": [
       "array(['0', '0.2', '0.3', '0.5', '0.6', '0.7', '0.9', '1', '1.1', '1.2',\n",
       "       '1.3', '1.4', '1.5', '1.6', '1.7', '1.8', '1.9', '2', '2.1', '2.2',\n",
       "       '2.3', '2.4', '2.5', '2.6', '2.7', '2.8', '2.9', '3', '3.1', '3.2',\n",
       "       '3.3', '3.4', '3.5', '3.6', '3.7', '3.8', '3.9', '4', '4.1', '4.2',\n",
       "       '4.3', '4.4', '4.5', '4.6', '4.7', '4.8', '4.9', '5', '5.1', '5.2',\n",
       "       '5.3', '5.4', '5.5', '5.6', '5.7', '5.8', '5.9', '6', '6.1', '6.2',\n",
       "       '6.3', '6.4', '6.5', '6.6', '6.7', '6.8', '6.9', '7', '7.1', '7.2',\n",
       "       '7.3', '7.4', '7.5', '7.6', '7.7', '7.8', '7.9', '8', '8.1', '8.2',\n",
       "       '8.3', '8.4', '8.5', '8.6', '8.7', '8.8', '8.9', '9', '9.1', '9.2',\n",
       "       '9.3', '9.4', '9.5', '9.6', '9.7', 'tbd', nan], dtype=object)"
      ]
     },
     "execution_count": 14,
     "metadata": {},
     "output_type": "execute_result"
    }
   ],
   "source": [
    "#  Вызов списка уникальных значений в столбце с пользовательскими оценками\n",
    "df['User_Score'].sort_values().unique()"
   ]
  },
  {
   "cell_type": "code",
   "execution_count": 15,
   "id": "27d56b72",
   "metadata": {},
   "outputs": [
    {
     "data": {
      "text/html": [
       "<div>\n",
       "<style scoped>\n",
       "    .dataframe tbody tr th:only-of-type {\n",
       "        vertical-align: middle;\n",
       "    }\n",
       "\n",
       "    .dataframe tbody tr th {\n",
       "        vertical-align: top;\n",
       "    }\n",
       "\n",
       "    .dataframe thead th {\n",
       "        text-align: right;\n",
       "    }\n",
       "</style>\n",
       "<table border=\"1\" class=\"dataframe\">\n",
       "  <thead>\n",
       "    <tr style=\"text-align: right;\">\n",
       "      <th></th>\n",
       "      <th>Year_of_Release</th>\n",
       "      <th>NA_sales</th>\n",
       "      <th>EU_sales</th>\n",
       "      <th>JP_sales</th>\n",
       "      <th>Other_sales</th>\n",
       "      <th>Critic_Score</th>\n",
       "    </tr>\n",
       "  </thead>\n",
       "  <tbody>\n",
       "    <tr>\n",
       "      <th>count</th>\n",
       "      <td>16446.000000</td>\n",
       "      <td>16715.000000</td>\n",
       "      <td>16715.000000</td>\n",
       "      <td>16715.000000</td>\n",
       "      <td>16715.000000</td>\n",
       "      <td>8137.000000</td>\n",
       "    </tr>\n",
       "    <tr>\n",
       "      <th>mean</th>\n",
       "      <td>2006.484616</td>\n",
       "      <td>0.263377</td>\n",
       "      <td>0.145060</td>\n",
       "      <td>0.077617</td>\n",
       "      <td>0.047342</td>\n",
       "      <td>68.967679</td>\n",
       "    </tr>\n",
       "    <tr>\n",
       "      <th>std</th>\n",
       "      <td>5.877050</td>\n",
       "      <td>0.813604</td>\n",
       "      <td>0.503339</td>\n",
       "      <td>0.308853</td>\n",
       "      <td>0.186731</td>\n",
       "      <td>13.938165</td>\n",
       "    </tr>\n",
       "    <tr>\n",
       "      <th>min</th>\n",
       "      <td>1980.000000</td>\n",
       "      <td>0.000000</td>\n",
       "      <td>0.000000</td>\n",
       "      <td>0.000000</td>\n",
       "      <td>0.000000</td>\n",
       "      <td>13.000000</td>\n",
       "    </tr>\n",
       "    <tr>\n",
       "      <th>25%</th>\n",
       "      <td>2003.000000</td>\n",
       "      <td>0.000000</td>\n",
       "      <td>0.000000</td>\n",
       "      <td>0.000000</td>\n",
       "      <td>0.000000</td>\n",
       "      <td>60.000000</td>\n",
       "    </tr>\n",
       "    <tr>\n",
       "      <th>50%</th>\n",
       "      <td>2007.000000</td>\n",
       "      <td>0.080000</td>\n",
       "      <td>0.020000</td>\n",
       "      <td>0.000000</td>\n",
       "      <td>0.010000</td>\n",
       "      <td>71.000000</td>\n",
       "    </tr>\n",
       "    <tr>\n",
       "      <th>75%</th>\n",
       "      <td>2010.000000</td>\n",
       "      <td>0.240000</td>\n",
       "      <td>0.110000</td>\n",
       "      <td>0.040000</td>\n",
       "      <td>0.030000</td>\n",
       "      <td>79.000000</td>\n",
       "    </tr>\n",
       "    <tr>\n",
       "      <th>max</th>\n",
       "      <td>2016.000000</td>\n",
       "      <td>41.360000</td>\n",
       "      <td>28.960000</td>\n",
       "      <td>10.220000</td>\n",
       "      <td>10.570000</td>\n",
       "      <td>98.000000</td>\n",
       "    </tr>\n",
       "  </tbody>\n",
       "</table>\n",
       "</div>"
      ],
      "text/plain": [
       "       Year_of_Release      NA_sales      EU_sales      JP_sales  \\\n",
       "count     16446.000000  16715.000000  16715.000000  16715.000000   \n",
       "mean       2006.484616      0.263377      0.145060      0.077617   \n",
       "std           5.877050      0.813604      0.503339      0.308853   \n",
       "min        1980.000000      0.000000      0.000000      0.000000   \n",
       "25%        2003.000000      0.000000      0.000000      0.000000   \n",
       "50%        2007.000000      0.080000      0.020000      0.000000   \n",
       "75%        2010.000000      0.240000      0.110000      0.040000   \n",
       "max        2016.000000     41.360000     28.960000     10.220000   \n",
       "\n",
       "        Other_sales  Critic_Score  \n",
       "count  16715.000000   8137.000000  \n",
       "mean       0.047342     68.967679  \n",
       "std        0.186731     13.938165  \n",
       "min        0.000000     13.000000  \n",
       "25%        0.000000     60.000000  \n",
       "50%        0.010000     71.000000  \n",
       "75%        0.030000     79.000000  \n",
       "max       10.570000     98.000000  "
      ]
     },
     "execution_count": 15,
     "metadata": {},
     "output_type": "execute_result"
    }
   ],
   "source": [
    "# Вызов показателей описательной статистики\n",
    "df.describe()"
   ]
  },
  {
   "cell_type": "markdown",
   "id": "3249cc1c",
   "metadata": {},
   "source": [
    "### Вывод по результатам обзора данных\n",
    "По результатам предварительного обзора данных можно выделить следующие задачи по их предобработке:\n",
    "1. Переименование столбцов на названия со строчными символами.\n",
    "2. Изменение типа данных:\n",
    "    * в столбце года релиза `Year_of_Release` на `int`;\n",
    "    * в столбце `User_Score` на `float`.\n",
    "3. По возможности заполнение пропусков в столбцах. Пропуски обнаружены в пяти столбцах: `Name`, `Critic_Score`,`User_Score` и `Rating`."
   ]
  },
  {
   "cell_type": "markdown",
   "id": "cd91d624",
   "metadata": {},
   "source": [
    "# Предобработка данных"
   ]
  },
  {
   "cell_type": "markdown",
   "id": "54d8cea8",
   "metadata": {},
   "source": [
    "## Изменение названий столбцов"
   ]
  },
  {
   "cell_type": "code",
   "execution_count": 16,
   "id": "00c0d35e",
   "metadata": {},
   "outputs": [],
   "source": [
    "# Запишем названия столбцов строчными буквами методом map()\n",
    "df.columns = map(str.lower, df.columns)"
   ]
  },
  {
   "cell_type": "code",
   "execution_count": 17,
   "id": "54216ecb",
   "metadata": {},
   "outputs": [
    {
     "data": {
      "text/html": [
       "<div>\n",
       "<style scoped>\n",
       "    .dataframe tbody tr th:only-of-type {\n",
       "        vertical-align: middle;\n",
       "    }\n",
       "\n",
       "    .dataframe tbody tr th {\n",
       "        vertical-align: top;\n",
       "    }\n",
       "\n",
       "    .dataframe thead th {\n",
       "        text-align: right;\n",
       "    }\n",
       "</style>\n",
       "<table border=\"1\" class=\"dataframe\">\n",
       "  <thead>\n",
       "    <tr style=\"text-align: right;\">\n",
       "      <th></th>\n",
       "      <th>name</th>\n",
       "      <th>platform</th>\n",
       "      <th>year_of_release</th>\n",
       "      <th>genre</th>\n",
       "      <th>na_sales</th>\n",
       "      <th>eu_sales</th>\n",
       "      <th>jp_sales</th>\n",
       "      <th>other_sales</th>\n",
       "      <th>critic_score</th>\n",
       "      <th>user_score</th>\n",
       "      <th>rating</th>\n",
       "    </tr>\n",
       "  </thead>\n",
       "  <tbody>\n",
       "    <tr>\n",
       "      <th>4563</th>\n",
       "      <td>Barbie: Jet, Set &amp; Style!</td>\n",
       "      <td>DS</td>\n",
       "      <td>2011.0</td>\n",
       "      <td>Misc</td>\n",
       "      <td>0.34</td>\n",
       "      <td>0.05</td>\n",
       "      <td>0.0</td>\n",
       "      <td>0.03</td>\n",
       "      <td>NaN</td>\n",
       "      <td>NaN</td>\n",
       "      <td>NaN</td>\n",
       "    </tr>\n",
       "  </tbody>\n",
       "</table>\n",
       "</div>"
      ],
      "text/plain": [
       "                           name platform  year_of_release genre  na_sales  \\\n",
       "4563  Barbie: Jet, Set & Style!       DS           2011.0  Misc      0.34   \n",
       "\n",
       "      eu_sales  jp_sales  other_sales  critic_score user_score rating  \n",
       "4563      0.05       0.0         0.03           NaN        NaN    NaN  "
      ]
     },
     "execution_count": 17,
     "metadata": {},
     "output_type": "execute_result"
    }
   ],
   "source": [
    "# проверка\n",
    "df.sample()"
   ]
  },
  {
   "cell_type": "markdown",
   "id": "56616f30",
   "metadata": {},
   "source": [
    "## Обработка пропусков"
   ]
  },
  {
   "cell_type": "markdown",
   "id": "1a9778d6",
   "metadata": {},
   "source": [
    "### Пропуски года выпуска"
   ]
  },
  {
   "cell_type": "markdown",
   "id": "cdff1dc5",
   "metadata": {},
   "source": [
    "Вызовем срез данных, где не указан год выпуска."
   ]
  },
  {
   "cell_type": "code",
   "execution_count": 18,
   "id": "79b15639",
   "metadata": {
    "scrolled": true
   },
   "outputs": [
    {
     "data": {
      "text/html": [
       "<div>\n",
       "<style scoped>\n",
       "    .dataframe tbody tr th:only-of-type {\n",
       "        vertical-align: middle;\n",
       "    }\n",
       "\n",
       "    .dataframe tbody tr th {\n",
       "        vertical-align: top;\n",
       "    }\n",
       "\n",
       "    .dataframe thead th {\n",
       "        text-align: right;\n",
       "    }\n",
       "</style>\n",
       "<table border=\"1\" class=\"dataframe\">\n",
       "  <thead>\n",
       "    <tr style=\"text-align: right;\">\n",
       "      <th></th>\n",
       "      <th>name</th>\n",
       "      <th>platform</th>\n",
       "      <th>year_of_release</th>\n",
       "      <th>genre</th>\n",
       "      <th>na_sales</th>\n",
       "      <th>eu_sales</th>\n",
       "      <th>jp_sales</th>\n",
       "      <th>other_sales</th>\n",
       "      <th>critic_score</th>\n",
       "      <th>user_score</th>\n",
       "      <th>rating</th>\n",
       "    </tr>\n",
       "  </thead>\n",
       "  <tbody>\n",
       "    <tr>\n",
       "      <th>183</th>\n",
       "      <td>Madden NFL 2004</td>\n",
       "      <td>PS2</td>\n",
       "      <td>NaN</td>\n",
       "      <td>Sports</td>\n",
       "      <td>4.26</td>\n",
       "      <td>0.26</td>\n",
       "      <td>0.01</td>\n",
       "      <td>0.71</td>\n",
       "      <td>94.0</td>\n",
       "      <td>8.5</td>\n",
       "      <td>E</td>\n",
       "    </tr>\n",
       "    <tr>\n",
       "      <th>377</th>\n",
       "      <td>FIFA Soccer 2004</td>\n",
       "      <td>PS2</td>\n",
       "      <td>NaN</td>\n",
       "      <td>Sports</td>\n",
       "      <td>0.59</td>\n",
       "      <td>2.36</td>\n",
       "      <td>0.04</td>\n",
       "      <td>0.51</td>\n",
       "      <td>84.0</td>\n",
       "      <td>6.4</td>\n",
       "      <td>E</td>\n",
       "    </tr>\n",
       "    <tr>\n",
       "      <th>456</th>\n",
       "      <td>LEGO Batman: The Videogame</td>\n",
       "      <td>Wii</td>\n",
       "      <td>NaN</td>\n",
       "      <td>Action</td>\n",
       "      <td>1.80</td>\n",
       "      <td>0.97</td>\n",
       "      <td>0.00</td>\n",
       "      <td>0.29</td>\n",
       "      <td>74.0</td>\n",
       "      <td>7.9</td>\n",
       "      <td>E10+</td>\n",
       "    </tr>\n",
       "    <tr>\n",
       "      <th>475</th>\n",
       "      <td>wwe Smackdown vs. Raw 2006</td>\n",
       "      <td>PS2</td>\n",
       "      <td>NaN</td>\n",
       "      <td>Fighting</td>\n",
       "      <td>1.57</td>\n",
       "      <td>1.02</td>\n",
       "      <td>0.00</td>\n",
       "      <td>0.41</td>\n",
       "      <td>NaN</td>\n",
       "      <td>NaN</td>\n",
       "      <td>NaN</td>\n",
       "    </tr>\n",
       "    <tr>\n",
       "      <th>609</th>\n",
       "      <td>Space Invaders</td>\n",
       "      <td>2600</td>\n",
       "      <td>NaN</td>\n",
       "      <td>Shooter</td>\n",
       "      <td>2.36</td>\n",
       "      <td>0.14</td>\n",
       "      <td>0.00</td>\n",
       "      <td>0.03</td>\n",
       "      <td>NaN</td>\n",
       "      <td>NaN</td>\n",
       "      <td>NaN</td>\n",
       "    </tr>\n",
       "    <tr>\n",
       "      <th>...</th>\n",
       "      <td>...</td>\n",
       "      <td>...</td>\n",
       "      <td>...</td>\n",
       "      <td>...</td>\n",
       "      <td>...</td>\n",
       "      <td>...</td>\n",
       "      <td>...</td>\n",
       "      <td>...</td>\n",
       "      <td>...</td>\n",
       "      <td>...</td>\n",
       "      <td>...</td>\n",
       "    </tr>\n",
       "    <tr>\n",
       "      <th>16373</th>\n",
       "      <td>PDC World Championship Darts 2008</td>\n",
       "      <td>PSP</td>\n",
       "      <td>NaN</td>\n",
       "      <td>Sports</td>\n",
       "      <td>0.01</td>\n",
       "      <td>0.00</td>\n",
       "      <td>0.00</td>\n",
       "      <td>0.00</td>\n",
       "      <td>43.0</td>\n",
       "      <td>tbd</td>\n",
       "      <td>E10+</td>\n",
       "    </tr>\n",
       "    <tr>\n",
       "      <th>16405</th>\n",
       "      <td>Freaky Flyers</td>\n",
       "      <td>GC</td>\n",
       "      <td>NaN</td>\n",
       "      <td>Racing</td>\n",
       "      <td>0.01</td>\n",
       "      <td>0.00</td>\n",
       "      <td>0.00</td>\n",
       "      <td>0.00</td>\n",
       "      <td>69.0</td>\n",
       "      <td>6.5</td>\n",
       "      <td>T</td>\n",
       "    </tr>\n",
       "    <tr>\n",
       "      <th>16448</th>\n",
       "      <td>Inversion</td>\n",
       "      <td>PC</td>\n",
       "      <td>NaN</td>\n",
       "      <td>Shooter</td>\n",
       "      <td>0.01</td>\n",
       "      <td>0.00</td>\n",
       "      <td>0.00</td>\n",
       "      <td>0.00</td>\n",
       "      <td>59.0</td>\n",
       "      <td>6.7</td>\n",
       "      <td>M</td>\n",
       "    </tr>\n",
       "    <tr>\n",
       "      <th>16458</th>\n",
       "      <td>Hakuouki: Shinsengumi Kitan</td>\n",
       "      <td>PS3</td>\n",
       "      <td>NaN</td>\n",
       "      <td>Adventure</td>\n",
       "      <td>0.01</td>\n",
       "      <td>0.00</td>\n",
       "      <td>0.00</td>\n",
       "      <td>0.00</td>\n",
       "      <td>NaN</td>\n",
       "      <td>NaN</td>\n",
       "      <td>NaN</td>\n",
       "    </tr>\n",
       "    <tr>\n",
       "      <th>16522</th>\n",
       "      <td>Virtua Quest</td>\n",
       "      <td>GC</td>\n",
       "      <td>NaN</td>\n",
       "      <td>Role-Playing</td>\n",
       "      <td>0.01</td>\n",
       "      <td>0.00</td>\n",
       "      <td>0.00</td>\n",
       "      <td>0.00</td>\n",
       "      <td>55.0</td>\n",
       "      <td>5.5</td>\n",
       "      <td>T</td>\n",
       "    </tr>\n",
       "  </tbody>\n",
       "</table>\n",
       "<p>269 rows × 11 columns</p>\n",
       "</div>"
      ],
      "text/plain": [
       "                                    name platform  year_of_release  \\\n",
       "183                      Madden NFL 2004      PS2              NaN   \n",
       "377                     FIFA Soccer 2004      PS2              NaN   \n",
       "456           LEGO Batman: The Videogame      Wii              NaN   \n",
       "475           wwe Smackdown vs. Raw 2006      PS2              NaN   \n",
       "609                       Space Invaders     2600              NaN   \n",
       "...                                  ...      ...              ...   \n",
       "16373  PDC World Championship Darts 2008      PSP              NaN   \n",
       "16405                      Freaky Flyers       GC              NaN   \n",
       "16448                          Inversion       PC              NaN   \n",
       "16458        Hakuouki: Shinsengumi Kitan      PS3              NaN   \n",
       "16522                       Virtua Quest       GC              NaN   \n",
       "\n",
       "              genre  na_sales  eu_sales  jp_sales  other_sales  critic_score  \\\n",
       "183          Sports      4.26      0.26      0.01         0.71          94.0   \n",
       "377          Sports      0.59      2.36      0.04         0.51          84.0   \n",
       "456          Action      1.80      0.97      0.00         0.29          74.0   \n",
       "475        Fighting      1.57      1.02      0.00         0.41           NaN   \n",
       "609         Shooter      2.36      0.14      0.00         0.03           NaN   \n",
       "...             ...       ...       ...       ...          ...           ...   \n",
       "16373        Sports      0.01      0.00      0.00         0.00          43.0   \n",
       "16405        Racing      0.01      0.00      0.00         0.00          69.0   \n",
       "16448       Shooter      0.01      0.00      0.00         0.00          59.0   \n",
       "16458     Adventure      0.01      0.00      0.00         0.00           NaN   \n",
       "16522  Role-Playing      0.01      0.00      0.00         0.00          55.0   \n",
       "\n",
       "      user_score rating  \n",
       "183          8.5      E  \n",
       "377          6.4      E  \n",
       "456          7.9   E10+  \n",
       "475          NaN    NaN  \n",
       "609          NaN    NaN  \n",
       "...          ...    ...  \n",
       "16373        tbd   E10+  \n",
       "16405        6.5      T  \n",
       "16448        6.7      M  \n",
       "16458        NaN    NaN  \n",
       "16522        5.5      T  \n",
       "\n",
       "[269 rows x 11 columns]"
      ]
     },
     "execution_count": 18,
     "metadata": {},
     "output_type": "execute_result"
    }
   ],
   "source": [
    "df[df['year_of_release'].isna()]"
   ]
  },
  {
   "cell_type": "markdown",
   "id": "e1a7707b",
   "metadata": {},
   "source": [
    "Многие названия игр содержат указание года. Эту информацию можно использовать для заполнения пропусков.\n",
    "Как правило, если в названии игры указан год, то релиз игры происходит в предыдущий год от указанного. К примеру релиз Madden NFL 2004 состоялся 12 августа 2003. Поэтому играм с годом в названии укажем год, указанный в названии минус 1."
   ]
  },
  {
   "cell_type": "markdown",
   "id": "ef5a14fa",
   "metadata": {},
   "source": [
    "Для начала нужно из названия игры убрать другие символы кроме числовых."
   ]
  },
  {
   "cell_type": "code",
   "execution_count": 19,
   "id": "5e610f06",
   "metadata": {},
   "outputs": [],
   "source": [
    "# запишем список индексов игр, где не указан год релиза\n",
    "no_year_names = df[df['year_of_release'].isna()]['name'].index"
   ]
  },
  {
   "cell_type": "code",
   "execution_count": 20,
   "id": "f8380334",
   "metadata": {},
   "outputs": [],
   "source": [
    "# Вызовем наименования игр, для которых не указан год выпуска и запишем в список только числовые символы и названия\n",
    "# Методом replace() все символ, за исключением числовых, заменяем на пустые значения \"\"\n",
    "no_year = df[df['year_of_release'].isna()]['name'].replace(r\"[^\\d]\", \"\", regex=True)"
   ]
  },
  {
   "cell_type": "code",
   "execution_count": 21,
   "id": "4e981a5f",
   "metadata": {
    "scrolled": true
   },
   "outputs": [],
   "source": [
    "# Заменим полученные значения на целые числа\n",
    "no_year = no_year.drop(no_year[no_year == ''].index).astype('int64')"
   ]
  },
  {
   "cell_type": "code",
   "execution_count": 22,
   "id": "415366cf",
   "metadata": {},
   "outputs": [
    {
     "data": {
      "text/plain": [
       "array([2004, 2006,    3,   99,   57, 2003,    2,    4,    7, 2009,   11,\n",
       "          6, 2002, 2013, 2005,  500,   26,   20,   64, 2011,   28,    5,\n",
       "       2008, 2007,  148], dtype=int64)"
      ]
     },
     "execution_count": 22,
     "metadata": {},
     "output_type": "execute_result"
    }
   ],
   "source": [
    "# Вызовем полученные список значений\n",
    "no_year.unique()"
   ]
  },
  {
   "cell_type": "markdown",
   "id": "35095ecd",
   "metadata": {},
   "source": [
    "Не все числовые значения в названии были годом. Поэтому будем использовать только значения больше 2000, что очевидно является указанием года."
   ]
  },
  {
   "cell_type": "code",
   "execution_count": 23,
   "id": "c5ae8b1b",
   "metadata": {},
   "outputs": [],
   "source": [
    "# Заменяем пропуски в годах полученными значениями за вычетом 1\n",
    "df.loc[df['year_of_release'].isna(), 'year_of_release'] = no_year[no_year > 2000].apply(lambda x: x-1)"
   ]
  },
  {
   "cell_type": "code",
   "execution_count": 24,
   "id": "183e3c1e",
   "metadata": {},
   "outputs": [
    {
     "data": {
      "text/html": [
       "<div>\n",
       "<style scoped>\n",
       "    .dataframe tbody tr th:only-of-type {\n",
       "        vertical-align: middle;\n",
       "    }\n",
       "\n",
       "    .dataframe tbody tr th {\n",
       "        vertical-align: top;\n",
       "    }\n",
       "\n",
       "    .dataframe thead th {\n",
       "        text-align: right;\n",
       "    }\n",
       "</style>\n",
       "<table border=\"1\" class=\"dataframe\">\n",
       "  <thead>\n",
       "    <tr style=\"text-align: right;\">\n",
       "      <th></th>\n",
       "      <th>name</th>\n",
       "      <th>platform</th>\n",
       "      <th>year_of_release</th>\n",
       "      <th>genre</th>\n",
       "      <th>na_sales</th>\n",
       "      <th>eu_sales</th>\n",
       "      <th>jp_sales</th>\n",
       "      <th>other_sales</th>\n",
       "      <th>critic_score</th>\n",
       "      <th>user_score</th>\n",
       "      <th>rating</th>\n",
       "    </tr>\n",
       "  </thead>\n",
       "  <tbody>\n",
       "    <tr>\n",
       "      <th>183</th>\n",
       "      <td>Madden NFL 2004</td>\n",
       "      <td>PS2</td>\n",
       "      <td>2003.0</td>\n",
       "      <td>Sports</td>\n",
       "      <td>4.26</td>\n",
       "      <td>0.26</td>\n",
       "      <td>0.01</td>\n",
       "      <td>0.71</td>\n",
       "      <td>94.0</td>\n",
       "      <td>8.5</td>\n",
       "      <td>E</td>\n",
       "    </tr>\n",
       "    <tr>\n",
       "      <th>377</th>\n",
       "      <td>FIFA Soccer 2004</td>\n",
       "      <td>PS2</td>\n",
       "      <td>2003.0</td>\n",
       "      <td>Sports</td>\n",
       "      <td>0.59</td>\n",
       "      <td>2.36</td>\n",
       "      <td>0.04</td>\n",
       "      <td>0.51</td>\n",
       "      <td>84.0</td>\n",
       "      <td>6.4</td>\n",
       "      <td>E</td>\n",
       "    </tr>\n",
       "    <tr>\n",
       "      <th>456</th>\n",
       "      <td>LEGO Batman: The Videogame</td>\n",
       "      <td>Wii</td>\n",
       "      <td>NaN</td>\n",
       "      <td>Action</td>\n",
       "      <td>1.80</td>\n",
       "      <td>0.97</td>\n",
       "      <td>0.00</td>\n",
       "      <td>0.29</td>\n",
       "      <td>74.0</td>\n",
       "      <td>7.9</td>\n",
       "      <td>E10+</td>\n",
       "    </tr>\n",
       "    <tr>\n",
       "      <th>475</th>\n",
       "      <td>wwe Smackdown vs. Raw 2006</td>\n",
       "      <td>PS2</td>\n",
       "      <td>2005.0</td>\n",
       "      <td>Fighting</td>\n",
       "      <td>1.57</td>\n",
       "      <td>1.02</td>\n",
       "      <td>0.00</td>\n",
       "      <td>0.41</td>\n",
       "      <td>NaN</td>\n",
       "      <td>NaN</td>\n",
       "      <td>NaN</td>\n",
       "    </tr>\n",
       "    <tr>\n",
       "      <th>609</th>\n",
       "      <td>Space Invaders</td>\n",
       "      <td>2600</td>\n",
       "      <td>NaN</td>\n",
       "      <td>Shooter</td>\n",
       "      <td>2.36</td>\n",
       "      <td>0.14</td>\n",
       "      <td>0.00</td>\n",
       "      <td>0.03</td>\n",
       "      <td>NaN</td>\n",
       "      <td>NaN</td>\n",
       "      <td>NaN</td>\n",
       "    </tr>\n",
       "    <tr>\n",
       "      <th>...</th>\n",
       "      <td>...</td>\n",
       "      <td>...</td>\n",
       "      <td>...</td>\n",
       "      <td>...</td>\n",
       "      <td>...</td>\n",
       "      <td>...</td>\n",
       "      <td>...</td>\n",
       "      <td>...</td>\n",
       "      <td>...</td>\n",
       "      <td>...</td>\n",
       "      <td>...</td>\n",
       "    </tr>\n",
       "    <tr>\n",
       "      <th>16373</th>\n",
       "      <td>PDC World Championship Darts 2008</td>\n",
       "      <td>PSP</td>\n",
       "      <td>2007.0</td>\n",
       "      <td>Sports</td>\n",
       "      <td>0.01</td>\n",
       "      <td>0.00</td>\n",
       "      <td>0.00</td>\n",
       "      <td>0.00</td>\n",
       "      <td>43.0</td>\n",
       "      <td>tbd</td>\n",
       "      <td>E10+</td>\n",
       "    </tr>\n",
       "    <tr>\n",
       "      <th>16405</th>\n",
       "      <td>Freaky Flyers</td>\n",
       "      <td>GC</td>\n",
       "      <td>NaN</td>\n",
       "      <td>Racing</td>\n",
       "      <td>0.01</td>\n",
       "      <td>0.00</td>\n",
       "      <td>0.00</td>\n",
       "      <td>0.00</td>\n",
       "      <td>69.0</td>\n",
       "      <td>6.5</td>\n",
       "      <td>T</td>\n",
       "    </tr>\n",
       "    <tr>\n",
       "      <th>16448</th>\n",
       "      <td>Inversion</td>\n",
       "      <td>PC</td>\n",
       "      <td>NaN</td>\n",
       "      <td>Shooter</td>\n",
       "      <td>0.01</td>\n",
       "      <td>0.00</td>\n",
       "      <td>0.00</td>\n",
       "      <td>0.00</td>\n",
       "      <td>59.0</td>\n",
       "      <td>6.7</td>\n",
       "      <td>M</td>\n",
       "    </tr>\n",
       "    <tr>\n",
       "      <th>16458</th>\n",
       "      <td>Hakuouki: Shinsengumi Kitan</td>\n",
       "      <td>PS3</td>\n",
       "      <td>NaN</td>\n",
       "      <td>Adventure</td>\n",
       "      <td>0.01</td>\n",
       "      <td>0.00</td>\n",
       "      <td>0.00</td>\n",
       "      <td>0.00</td>\n",
       "      <td>NaN</td>\n",
       "      <td>NaN</td>\n",
       "      <td>NaN</td>\n",
       "    </tr>\n",
       "    <tr>\n",
       "      <th>16522</th>\n",
       "      <td>Virtua Quest</td>\n",
       "      <td>GC</td>\n",
       "      <td>NaN</td>\n",
       "      <td>Role-Playing</td>\n",
       "      <td>0.01</td>\n",
       "      <td>0.00</td>\n",
       "      <td>0.00</td>\n",
       "      <td>0.00</td>\n",
       "      <td>55.0</td>\n",
       "      <td>5.5</td>\n",
       "      <td>T</td>\n",
       "    </tr>\n",
       "  </tbody>\n",
       "</table>\n",
       "<p>269 rows × 11 columns</p>\n",
       "</div>"
      ],
      "text/plain": [
       "                                    name platform  year_of_release  \\\n",
       "183                      Madden NFL 2004      PS2           2003.0   \n",
       "377                     FIFA Soccer 2004      PS2           2003.0   \n",
       "456           LEGO Batman: The Videogame      Wii              NaN   \n",
       "475           wwe Smackdown vs. Raw 2006      PS2           2005.0   \n",
       "609                       Space Invaders     2600              NaN   \n",
       "...                                  ...      ...              ...   \n",
       "16373  PDC World Championship Darts 2008      PSP           2007.0   \n",
       "16405                      Freaky Flyers       GC              NaN   \n",
       "16448                          Inversion       PC              NaN   \n",
       "16458        Hakuouki: Shinsengumi Kitan      PS3              NaN   \n",
       "16522                       Virtua Quest       GC              NaN   \n",
       "\n",
       "              genre  na_sales  eu_sales  jp_sales  other_sales  critic_score  \\\n",
       "183          Sports      4.26      0.26      0.01         0.71          94.0   \n",
       "377          Sports      0.59      2.36      0.04         0.51          84.0   \n",
       "456          Action      1.80      0.97      0.00         0.29          74.0   \n",
       "475        Fighting      1.57      1.02      0.00         0.41           NaN   \n",
       "609         Shooter      2.36      0.14      0.00         0.03           NaN   \n",
       "...             ...       ...       ...       ...          ...           ...   \n",
       "16373        Sports      0.01      0.00      0.00         0.00          43.0   \n",
       "16405        Racing      0.01      0.00      0.00         0.00          69.0   \n",
       "16448       Shooter      0.01      0.00      0.00         0.00          59.0   \n",
       "16458     Adventure      0.01      0.00      0.00         0.00           NaN   \n",
       "16522  Role-Playing      0.01      0.00      0.00         0.00          55.0   \n",
       "\n",
       "      user_score rating  \n",
       "183          8.5      E  \n",
       "377          6.4      E  \n",
       "456          7.9   E10+  \n",
       "475          NaN    NaN  \n",
       "609          NaN    NaN  \n",
       "...          ...    ...  \n",
       "16373        tbd   E10+  \n",
       "16405        6.5      T  \n",
       "16448        6.7      M  \n",
       "16458        NaN    NaN  \n",
       "16522        5.5      T  \n",
       "\n",
       "[269 rows x 11 columns]"
      ]
     },
     "execution_count": 24,
     "metadata": {},
     "output_type": "execute_result"
    }
   ],
   "source": [
    "# Для проверки вызываем срез данные по списку индексов\n",
    "df.iloc[no_year_names]"
   ]
  },
  {
   "cell_type": "markdown",
   "id": "6005dda0",
   "metadata": {},
   "source": [
    "### Пропуски в 'User_Score'"
   ]
  },
  {
   "cell_type": "markdown",
   "id": "9cf5a7e5",
   "metadata": {},
   "source": [
    "В столбце с оценкой пользователей есть значения с аббревиатурой 'tbd'. Аббревиатура 'tbd' расшифровывается как 'to be decided' или 'to be determined', то есть значение, которое следует определить (уточнить). В нашем случае, 'tbd' равноценно NaN. Поэтому заменим 'tbd' на NaN."
   ]
  },
  {
   "cell_type": "code",
   "execution_count": 25,
   "id": "33ea050d",
   "metadata": {},
   "outputs": [],
   "source": [
    "df['user_score'] = df['user_score'].replace('tbd',np.nan)"
   ]
  },
  {
   "cell_type": "markdown",
   "id": "ce9de29c",
   "metadata": {},
   "source": [
    "Так как дата выпуска игры имеет существенное значение для последующего анализа удалим строки, где есть пропуски года выпуска, а также 2 строки с пропуском в наименовании и жанре игры."
   ]
  },
  {
   "cell_type": "code",
   "execution_count": 26,
   "id": "530f8e71",
   "metadata": {},
   "outputs": [],
   "source": [
    "df = df.dropna(subset=['year_of_release','name'])"
   ]
  },
  {
   "cell_type": "markdown",
   "id": "4b0ebeca",
   "metadata": {},
   "source": [
    "Напоследок уберем пробелы в начале и в конце наименования игр."
   ]
  },
  {
   "cell_type": "code",
   "execution_count": 27,
   "id": "329deb5a",
   "metadata": {},
   "outputs": [],
   "source": [
    "df['name'] = df['name'].str.strip(' ')"
   ]
  },
  {
   "cell_type": "code",
   "execution_count": 28,
   "id": "26dd399b",
   "metadata": {
    "scrolled": true
   },
   "outputs": [
    {
     "data": {
      "text/plain": [
       "name                  0\n",
       "platform              0\n",
       "year_of_release       0\n",
       "genre                 0\n",
       "na_sales              0\n",
       "eu_sales              0\n",
       "jp_sales              0\n",
       "other_sales           0\n",
       "critic_score       8466\n",
       "user_score         8988\n",
       "rating             6682\n",
       "dtype: int64"
      ]
     },
     "execution_count": 28,
     "metadata": {},
     "output_type": "execute_result"
    }
   ],
   "source": [
    "# Вызов количества пропусков после предобработки\n",
    "df.isna().sum()"
   ]
  },
  {
   "cell_type": "markdown",
   "id": "8e29188d",
   "metadata": {},
   "source": [
    "Остались пропуски в столбцах с оценками критиков и пользователей, а также с рейтингом игры.  Данные пропуски заполнить невозможно, т.к. доступные способы заполнения пропусков (заполнение средними значениями и т.п.) приведет к искажению данных.   "
   ]
  },
  {
   "cell_type": "markdown",
   "id": "2bec7cd2",
   "metadata": {},
   "source": [
    "## Преобразование типов данных"
   ]
  },
  {
   "cell_type": "code",
   "execution_count": 29,
   "id": "56087c6a",
   "metadata": {},
   "outputs": [],
   "source": [
    "# Замена типов данных столбца 'year_of_release' с float на int.\n",
    "df['year_of_release'] = df['year_of_release'].astype('int64')"
   ]
  },
  {
   "cell_type": "code",
   "execution_count": 30,
   "id": "39db747a",
   "metadata": {},
   "outputs": [],
   "source": [
    "# Замена типов данных столбца 'user_score' с object на float.\n",
    "df['user_score'] = df['user_score'].astype('float64')"
   ]
  },
  {
   "cell_type": "code",
   "execution_count": 31,
   "id": "41dd8d3f",
   "metadata": {
    "scrolled": true
   },
   "outputs": [
    {
     "data": {
      "text/plain": [
       "name                object\n",
       "platform            object\n",
       "year_of_release      int64\n",
       "genre               object\n",
       "na_sales           float64\n",
       "eu_sales           float64\n",
       "jp_sales           float64\n",
       "other_sales        float64\n",
       "critic_score       float64\n",
       "user_score         float64\n",
       "rating              object\n",
       "dtype: object"
      ]
     },
     "execution_count": 31,
     "metadata": {},
     "output_type": "execute_result"
    }
   ],
   "source": [
    "# Вызов типов данных столбцов датафрейма\n",
    "df.dtypes"
   ]
  },
  {
   "cell_type": "markdown",
   "id": "ab1e1967",
   "metadata": {},
   "source": [
    "## Расчет суммарных продаж во всех регионах"
   ]
  },
  {
   "cell_type": "markdown",
   "id": "6f7d7d1f",
   "metadata": {},
   "source": [
    "Добавим в датафрейм столбец `total_sales` с суммой продаж по всем регионам."
   ]
  },
  {
   "cell_type": "code",
   "execution_count": 32,
   "id": "5b9d2f90",
   "metadata": {},
   "outputs": [],
   "source": [
    "df['total_sales'] = df[['na_sales','eu_sales', 'jp_sales', 'other_sales']].sum(axis=1)"
   ]
  },
  {
   "cell_type": "code",
   "execution_count": 33,
   "id": "15eb699c",
   "metadata": {},
   "outputs": [
    {
     "data": {
      "text/html": [
       "<div>\n",
       "<style scoped>\n",
       "    .dataframe tbody tr th:only-of-type {\n",
       "        vertical-align: middle;\n",
       "    }\n",
       "\n",
       "    .dataframe tbody tr th {\n",
       "        vertical-align: top;\n",
       "    }\n",
       "\n",
       "    .dataframe thead th {\n",
       "        text-align: right;\n",
       "    }\n",
       "</style>\n",
       "<table border=\"1\" class=\"dataframe\">\n",
       "  <thead>\n",
       "    <tr style=\"text-align: right;\">\n",
       "      <th></th>\n",
       "      <th>name</th>\n",
       "      <th>platform</th>\n",
       "      <th>year_of_release</th>\n",
       "      <th>genre</th>\n",
       "      <th>na_sales</th>\n",
       "      <th>eu_sales</th>\n",
       "      <th>jp_sales</th>\n",
       "      <th>other_sales</th>\n",
       "      <th>critic_score</th>\n",
       "      <th>user_score</th>\n",
       "      <th>rating</th>\n",
       "      <th>total_sales</th>\n",
       "    </tr>\n",
       "  </thead>\n",
       "  <tbody>\n",
       "    <tr>\n",
       "      <th>4174</th>\n",
       "      <td>Dragon Age Origins: Awakening</td>\n",
       "      <td>X360</td>\n",
       "      <td>2010</td>\n",
       "      <td>Role-Playing</td>\n",
       "      <td>0.33</td>\n",
       "      <td>0.10</td>\n",
       "      <td>0.00</td>\n",
       "      <td>0.04</td>\n",
       "      <td>NaN</td>\n",
       "      <td>NaN</td>\n",
       "      <td>NaN</td>\n",
       "      <td>0.47</td>\n",
       "    </tr>\n",
       "    <tr>\n",
       "      <th>5712</th>\n",
       "      <td>Digimon World: Dawn / Dusk</td>\n",
       "      <td>DS</td>\n",
       "      <td>2007</td>\n",
       "      <td>Role-Playing</td>\n",
       "      <td>0.12</td>\n",
       "      <td>0.00</td>\n",
       "      <td>0.18</td>\n",
       "      <td>0.01</td>\n",
       "      <td>NaN</td>\n",
       "      <td>NaN</td>\n",
       "      <td>NaN</td>\n",
       "      <td>0.31</td>\n",
       "    </tr>\n",
       "    <tr>\n",
       "      <th>444</th>\n",
       "      <td>Rhythm Heaven</td>\n",
       "      <td>DS</td>\n",
       "      <td>2008</td>\n",
       "      <td>Misc</td>\n",
       "      <td>0.55</td>\n",
       "      <td>0.50</td>\n",
       "      <td>1.93</td>\n",
       "      <td>0.13</td>\n",
       "      <td>83.0</td>\n",
       "      <td>9.0</td>\n",
       "      <td>E</td>\n",
       "      <td>3.11</td>\n",
       "    </tr>\n",
       "    <tr>\n",
       "      <th>11125</th>\n",
       "      <td>Dora's Big Birthday Adventure</td>\n",
       "      <td>DS</td>\n",
       "      <td>2010</td>\n",
       "      <td>Misc</td>\n",
       "      <td>0.08</td>\n",
       "      <td>0.01</td>\n",
       "      <td>0.00</td>\n",
       "      <td>0.01</td>\n",
       "      <td>NaN</td>\n",
       "      <td>NaN</td>\n",
       "      <td>E</td>\n",
       "      <td>0.10</td>\n",
       "    </tr>\n",
       "    <tr>\n",
       "      <th>4122</th>\n",
       "      <td>Up</td>\n",
       "      <td>PS2</td>\n",
       "      <td>2009</td>\n",
       "      <td>Action</td>\n",
       "      <td>0.19</td>\n",
       "      <td>0.05</td>\n",
       "      <td>0.00</td>\n",
       "      <td>0.24</td>\n",
       "      <td>NaN</td>\n",
       "      <td>NaN</td>\n",
       "      <td>E</td>\n",
       "      <td>0.48</td>\n",
       "    </tr>\n",
       "  </tbody>\n",
       "</table>\n",
       "</div>"
      ],
      "text/plain": [
       "                                name platform  year_of_release         genre  \\\n",
       "4174   Dragon Age Origins: Awakening     X360             2010  Role-Playing   \n",
       "5712      Digimon World: Dawn / Dusk       DS             2007  Role-Playing   \n",
       "444                    Rhythm Heaven       DS             2008          Misc   \n",
       "11125  Dora's Big Birthday Adventure       DS             2010          Misc   \n",
       "4122                              Up      PS2             2009        Action   \n",
       "\n",
       "       na_sales  eu_sales  jp_sales  other_sales  critic_score  user_score  \\\n",
       "4174       0.33      0.10      0.00         0.04           NaN         NaN   \n",
       "5712       0.12      0.00      0.18         0.01           NaN         NaN   \n",
       "444        0.55      0.50      1.93         0.13          83.0         9.0   \n",
       "11125      0.08      0.01      0.00         0.01           NaN         NaN   \n",
       "4122       0.19      0.05      0.00         0.24           NaN         NaN   \n",
       "\n",
       "      rating  total_sales  \n",
       "4174     NaN         0.47  \n",
       "5712     NaN         0.31  \n",
       "444        E         3.11  \n",
       "11125      E         0.10  \n",
       "4122       E         0.48  "
      ]
     },
     "execution_count": 33,
     "metadata": {},
     "output_type": "execute_result"
    }
   ],
   "source": [
    "# Вызов нескольких случайных строк датафрейма для проверки преобразований\n",
    "df.sample(5)"
   ]
  },
  {
   "cell_type": "markdown",
   "id": "8904e354",
   "metadata": {},
   "source": [
    "### Вывод по результатам предобработки данных\n",
    "В результате обзора данных выполнены следующие преобразования:\n",
    "* изменены названия столбцов на строчные символы;\n",
    "* частично заполнены пропуски в годе выпуска игр (столбец `year_of_release`) по наименованию игры;\n",
    "* удалены строки, где не указаны год выпуска и жанр игры;\n",
    "* изменены типы данных в столбцах `year_of_release` и `user_score`;\n",
    "* в таблицу добавлен столбец `total_sales` с суммарными продажами."
   ]
  },
  {
   "cell_type": "markdown",
   "id": "96f8a63e",
   "metadata": {},
   "source": [
    "# Исследовательский анализ данных"
   ]
  },
  {
   "cell_type": "markdown",
   "id": "84c36656",
   "metadata": {},
   "source": [
    "## Анализ выпуска игр по годам\n",
    "Посмотрим, сколько игр выпускалось в разные годы. Для этого построим диаграмму распределения количества значений по годам."
   ]
  },
  {
   "cell_type": "code",
   "execution_count": 34,
   "id": "bb7dc63b",
   "metadata": {},
   "outputs": [
    {
     "data": {
      "image/png": "[encoded data removed]",
      "text/plain": [
       "<Figure size 432x288 with 1 Axes>"
      ]
     },
     "metadata": {
      "needs_background": "light"
     },
     "output_type": "display_data"
    }
   ],
   "source": [
    "plt.hist(data=df, x='year_of_release', histtype='barstacked', bins=35)\n",
    "plt.title(\"Выпуск игр по годам\")\n",
    "plt.ylabel('Количество')\n",
    "plt.show()"
   ]
  },
  {
   "cell_type": "markdown",
   "id": "9bb69906",
   "metadata": {},
   "source": [
    "На гистограмме заметен рост количества выпускаемых игр с 1995 года, когда ежегодно выпукаслось более 200 игр в год."
   ]
  },
  {
   "cell_type": "markdown",
   "id": "972ee1d2",
   "metadata": {},
   "source": [
    "Исследуемый период - выход более 200 игр в год: 1995-2016 гг."
   ]
  },
  {
   "cell_type": "code",
   "execution_count": 35,
   "id": "40ed08be",
   "metadata": {},
   "outputs": [],
   "source": [
    "# Отфильтруем данные с 1995 года\n",
    "df_rel_years = df.copy()\n",
    "df_rel_years = df_rel_years.query('year_of_release >= 1995')"
   ]
  },
  {
   "cell_type": "markdown",
   "id": "209fe245",
   "metadata": {},
   "source": [
    "## Анализ продаж по платформам"
   ]
  },
  {
   "cell_type": "markdown",
   "id": "06a04d77",
   "metadata": {},
   "source": [
    "Рассчитаем суммарные продажи игр для каждой платформы за анализируемый период."
   ]
  },
  {
   "cell_type": "code",
   "execution_count": 36,
   "id": "03ef0e54",
   "metadata": {},
   "outputs": [],
   "source": [
    "platform_total_sales = (df_rel_years\n",
    "                        .groupby('platform')[['total_sales']]\n",
    "                        .sum()\n",
    "                        .sort_values('total_sales', ascending=False)\n",
    "                        .reset_index()\n",
    "                       )"
   ]
  },
  {
   "cell_type": "code",
   "execution_count": 37,
   "id": "3ef27c2d",
   "metadata": {
    "scrolled": true
   },
   "outputs": [
    {
     "data": {
      "text/html": [
       "<div>\n",
       "<style scoped>\n",
       "    .dataframe tbody tr th:only-of-type {\n",
       "        vertical-align: middle;\n",
       "    }\n",
       "\n",
       "    .dataframe tbody tr th {\n",
       "        vertical-align: top;\n",
       "    }\n",
       "\n",
       "    .dataframe thead th {\n",
       "        text-align: right;\n",
       "    }\n",
       "</style>\n",
       "<table border=\"1\" class=\"dataframe\">\n",
       "  <thead>\n",
       "    <tr style=\"text-align: right;\">\n",
       "      <th></th>\n",
       "      <th>platform</th>\n",
       "      <th>total_sales</th>\n",
       "    </tr>\n",
       "  </thead>\n",
       "  <tbody>\n",
       "    <tr>\n",
       "      <th>0</th>\n",
       "      <td>PS2</td>\n",
       "      <td>1248.12</td>\n",
       "    </tr>\n",
       "    <tr>\n",
       "      <th>1</th>\n",
       "      <td>X360</td>\n",
       "      <td>961.30</td>\n",
       "    </tr>\n",
       "    <tr>\n",
       "      <th>2</th>\n",
       "      <td>PS3</td>\n",
       "      <td>931.34</td>\n",
       "    </tr>\n",
       "    <tr>\n",
       "      <th>3</th>\n",
       "      <td>Wii</td>\n",
       "      <td>891.18</td>\n",
       "    </tr>\n",
       "    <tr>\n",
       "      <th>4</th>\n",
       "      <td>DS</td>\n",
       "      <td>802.77</td>\n",
       "    </tr>\n",
       "    <tr>\n",
       "      <th>5</th>\n",
       "      <td>PS</td>\n",
       "      <td>721.55</td>\n",
       "    </tr>\n",
       "    <tr>\n",
       "      <th>6</th>\n",
       "      <td>PS4</td>\n",
       "      <td>314.14</td>\n",
       "    </tr>\n",
       "    <tr>\n",
       "      <th>7</th>\n",
       "      <td>GBA</td>\n",
       "      <td>312.88</td>\n",
       "    </tr>\n",
       "    <tr>\n",
       "      <th>8</th>\n",
       "      <td>PSP</td>\n",
       "      <td>290.34</td>\n",
       "    </tr>\n",
       "    <tr>\n",
       "      <th>9</th>\n",
       "      <td>3DS</td>\n",
       "      <td>257.81</td>\n",
       "    </tr>\n",
       "    <tr>\n",
       "      <th>10</th>\n",
       "      <td>XB</td>\n",
       "      <td>252.66</td>\n",
       "    </tr>\n",
       "    <tr>\n",
       "      <th>11</th>\n",
       "      <td>PC</td>\n",
       "      <td>240.14</td>\n",
       "    </tr>\n",
       "    <tr>\n",
       "      <th>12</th>\n",
       "      <td>N64</td>\n",
       "      <td>218.01</td>\n",
       "    </tr>\n",
       "    <tr>\n",
       "      <th>13</th>\n",
       "      <td>GC</td>\n",
       "      <td>197.03</td>\n",
       "    </tr>\n",
       "    <tr>\n",
       "      <th>14</th>\n",
       "      <td>XOne</td>\n",
       "      <td>159.32</td>\n",
       "    </tr>\n",
       "    <tr>\n",
       "      <th>15</th>\n",
       "      <td>GB</td>\n",
       "      <td>139.90</td>\n",
       "    </tr>\n",
       "    <tr>\n",
       "      <th>16</th>\n",
       "      <td>WiiU</td>\n",
       "      <td>82.19</td>\n",
       "    </tr>\n",
       "    <tr>\n",
       "      <th>17</th>\n",
       "      <td>PSV</td>\n",
       "      <td>53.81</td>\n",
       "    </tr>\n",
       "    <tr>\n",
       "      <th>18</th>\n",
       "      <td>SNES</td>\n",
       "      <td>49.59</td>\n",
       "    </tr>\n",
       "    <tr>\n",
       "      <th>19</th>\n",
       "      <td>SAT</td>\n",
       "      <td>29.94</td>\n",
       "    </tr>\n",
       "    <tr>\n",
       "      <th>20</th>\n",
       "      <td>DC</td>\n",
       "      <td>15.95</td>\n",
       "    </tr>\n",
       "    <tr>\n",
       "      <th>21</th>\n",
       "      <td>WS</td>\n",
       "      <td>1.42</td>\n",
       "    </tr>\n",
       "    <tr>\n",
       "      <th>22</th>\n",
       "      <td>NG</td>\n",
       "      <td>0.43</td>\n",
       "    </tr>\n",
       "    <tr>\n",
       "      <th>23</th>\n",
       "      <td>TG16</td>\n",
       "      <td>0.16</td>\n",
       "    </tr>\n",
       "    <tr>\n",
       "      <th>24</th>\n",
       "      <td>3DO</td>\n",
       "      <td>0.08</td>\n",
       "    </tr>\n",
       "    <tr>\n",
       "      <th>25</th>\n",
       "      <td>PCFX</td>\n",
       "      <td>0.03</td>\n",
       "    </tr>\n",
       "  </tbody>\n",
       "</table>\n",
       "</div>"
      ],
      "text/plain": [
       "   platform  total_sales\n",
       "0       PS2      1248.12\n",
       "1      X360       961.30\n",
       "2       PS3       931.34\n",
       "3       Wii       891.18\n",
       "4        DS       802.77\n",
       "5        PS       721.55\n",
       "6       PS4       314.14\n",
       "7       GBA       312.88\n",
       "8       PSP       290.34\n",
       "9       3DS       257.81\n",
       "10       XB       252.66\n",
       "11       PC       240.14\n",
       "12      N64       218.01\n",
       "13       GC       197.03\n",
       "14     XOne       159.32\n",
       "15       GB       139.90\n",
       "16     WiiU        82.19\n",
       "17      PSV        53.81\n",
       "18     SNES        49.59\n",
       "19      SAT        29.94\n",
       "20       DC        15.95\n",
       "21       WS         1.42\n",
       "22       NG         0.43\n",
       "23     TG16         0.16\n",
       "24      3DO         0.08\n",
       "25     PCFX         0.03"
      ]
     },
     "execution_count": 37,
     "metadata": {},
     "output_type": "execute_result"
    }
   ],
   "source": [
    "platform_total_sales"
   ]
  },
  {
   "cell_type": "markdown",
   "id": "a77328aa",
   "metadata": {},
   "source": [
    "Запишем список платформ с наибольшими суммарными платформами."
   ]
  },
  {
   "cell_type": "code",
   "execution_count": 38,
   "id": "da44ee37",
   "metadata": {},
   "outputs": [
    {
     "data": {
      "text/plain": [
       "0     PS2\n",
       "1    X360\n",
       "2     PS3\n",
       "3     Wii\n",
       "4      DS\n",
       "5      PS\n",
       "6     PS4\n",
       "7     GBA\n",
       "8     PSP\n",
       "9     3DS\n",
       "Name: platform, dtype: object"
      ]
     },
     "execution_count": 38,
     "metadata": {},
     "output_type": "execute_result"
    }
   ],
   "source": [
    "top_platforms = platform_total_sales.loc[:9,'platform']\n",
    "top_platforms"
   ]
  },
  {
   "cell_type": "code",
   "execution_count": 39,
   "id": "555a95b7",
   "metadata": {},
   "outputs": [],
   "source": [
    "# Запишем датафрейм с данными топ-10 платформ по продажам\n",
    "top_platforms_df = df_rel_years.query('platform in @top_platforms')"
   ]
  },
  {
   "cell_type": "markdown",
   "id": "7f9c4ffe",
   "metadata": {},
   "source": [
    "Построим график изменения продаж популярных платформ по годам."
   ]
  },
  {
   "cell_type": "code",
   "execution_count": 40,
   "id": "293265a5",
   "metadata": {},
   "outputs": [
    {
     "data": {
      "image/png": "[encoded data removed]",
      "text/plain": [
       "<Figure size 1080x360 with 1 Axes>"
      ]
     },
     "metadata": {
      "needs_background": "light"
     },
     "output_type": "display_data"
    }
   ],
   "source": [
    "ax = top_platforms_df.pivot_table(index='year_of_release', \n",
    "                             columns='platform', \n",
    "                             values='total_sales', \n",
    "                             aggfunc='sum').plot(figsize=(15,5))\n",
    "ax.set_title('Суммарные продажи популярных платформ')\n",
    "ax.set_xlabel('Годы')\n",
    "ax.set_ylabel('Суммарные продажи')\n",
    "plt.show()"
   ]
  },
  {
   "cell_type": "markdown",
   "id": "bfbe0d3c",
   "metadata": {},
   "source": [
    "Как видно из графика характерный срок, когда появляются новые и исчезают старые платформы, составляет пять лет.\\\n",
    "Исходя из полученной информации построим график суммарных продаж по всем платформам за 2011 - 2015 годы (2016 год исключаем, т.к. данные за 2016 год неполные), для того чтобы определить игры для каких платформ будут популярны в 2017 году."
   ]
  },
  {
   "cell_type": "code",
   "execution_count": 41,
   "id": "e5ef65b8",
   "metadata": {},
   "outputs": [
    {
     "data": {
      "image/png": "[encoded data removed]",
      "text/plain": [
       "<Figure size 720x360 with 1 Axes>"
      ]
     },
     "metadata": {
      "needs_background": "light"
     },
     "output_type": "display_data"
    }
   ],
   "source": [
    "ax = df.query('2010 < year_of_release <= 2015').pivot_table(index='year_of_release', \n",
    "                             columns='platform', \n",
    "                             values='total_sales', \n",
    "                             aggfunc='sum').plot(figsize=(10,5))\n",
    "ax.set_title('Суммарные продажи платформ в 2011 - 2015 годах')\n",
    "ax.set_xticks([2011, 2012, 2013, 2014, 2015])\n",
    "ax.set_xlabel('Годы')\n",
    "ax.set_ylabel('Суммарные продажи')\n",
    "plt.show()"
   ]
  },
  {
   "cell_type": "markdown",
   "id": "fa723d30",
   "metadata": {},
   "source": [
    "C 2011 по 2015 год наблюдается спад продаж по всем платформам, который стал более заметен с появления в 2013 году платформ PS4 и XOne. На фоне падения продаж всех других платформ PS4 и XOne с 2013 года набирают популярность. Учитывая, что «жизненный цикл» платформы (с момента появления до значительного спада продаж) составляет пять лет, то к 2017 году PS4 и XOne еще сохранят прибыльность."
   ]
  },
  {
   "cell_type": "markdown",
   "id": "bf4c3c25",
   "metadata": {},
   "source": [
    "С появления в 2013 году платформ PS4 и Xone продажи игр для остальных платформ падают. Особенно заметен спад популярности платформ PS3 и X360. "
   ]
  },
  {
   "cell_type": "code",
   "execution_count": 42,
   "id": "b0114c95",
   "metadata": {},
   "outputs": [],
   "source": [
    "top_new_platforms = ['PS4', 'XOne']"
   ]
  },
  {
   "cell_type": "code",
   "execution_count": 43,
   "id": "4c44d142",
   "metadata": {},
   "outputs": [],
   "source": [
    "persp_platforms_df = df_rel_years.copy()\n",
    "persp_platforms_df = persp_platforms_df.query('platform in @top_new_platforms')"
   ]
  },
  {
   "cell_type": "markdown",
   "id": "3ff6c74e",
   "metadata": {},
   "source": [
    "## Графики «ящик с усами» по глобальным продажам игр в разбивке по платформам PS4 и XOne"
   ]
  },
  {
   "cell_type": "code",
   "execution_count": 44,
   "id": "b408fb88",
   "metadata": {},
   "outputs": [
    {
     "data": {
      "image/png": "[encoded data removed]",
      "text/plain": [
       "<Figure size 432x288 with 1 Axes>"
      ]
     },
     "metadata": {
      "needs_background": "light"
     },
     "output_type": "display_data"
    }
   ],
   "source": [
    "ax = sns.boxplot(data=persp_platforms_df, y='platform', x='total_sales', orient='h')\n",
    "ax.set_title('Глобальные продажи для платформ PS4 и XOne')\n",
    "ax.set_xlabel('Глобальные продажи')\n",
    "ax.set_ylabel(None)\n",
    "plt.show()"
   ]
  },
  {
   "cell_type": "code",
   "execution_count": 45,
   "id": "bc1c3074",
   "metadata": {},
   "outputs": [
    {
     "data": {
      "text/html": [
       "<div>\n",
       "<style scoped>\n",
       "    .dataframe tbody tr th:only-of-type {\n",
       "        vertical-align: middle;\n",
       "    }\n",
       "\n",
       "    .dataframe tbody tr th {\n",
       "        vertical-align: top;\n",
       "    }\n",
       "\n",
       "    .dataframe thead th {\n",
       "        text-align: right;\n",
       "    }\n",
       "</style>\n",
       "<table border=\"1\" class=\"dataframe\">\n",
       "  <thead>\n",
       "    <tr style=\"text-align: right;\">\n",
       "      <th></th>\n",
       "      <th>name</th>\n",
       "      <th>platform</th>\n",
       "      <th>year_of_release</th>\n",
       "      <th>genre</th>\n",
       "      <th>na_sales</th>\n",
       "      <th>eu_sales</th>\n",
       "      <th>jp_sales</th>\n",
       "      <th>other_sales</th>\n",
       "      <th>critic_score</th>\n",
       "      <th>user_score</th>\n",
       "      <th>rating</th>\n",
       "      <th>total_sales</th>\n",
       "    </tr>\n",
       "  </thead>\n",
       "  <tbody>\n",
       "    <tr>\n",
       "      <th>31</th>\n",
       "      <td>Call of Duty: Black Ops 3</td>\n",
       "      <td>PS4</td>\n",
       "      <td>2015</td>\n",
       "      <td>Shooter</td>\n",
       "      <td>6.03</td>\n",
       "      <td>5.86</td>\n",
       "      <td>0.36</td>\n",
       "      <td>2.38</td>\n",
       "      <td>NaN</td>\n",
       "      <td>NaN</td>\n",
       "      <td>NaN</td>\n",
       "      <td>14.63</td>\n",
       "    </tr>\n",
       "    <tr>\n",
       "      <th>42</th>\n",
       "      <td>Grand Theft Auto V</td>\n",
       "      <td>PS4</td>\n",
       "      <td>2014</td>\n",
       "      <td>Action</td>\n",
       "      <td>3.96</td>\n",
       "      <td>6.31</td>\n",
       "      <td>0.38</td>\n",
       "      <td>1.97</td>\n",
       "      <td>97.0</td>\n",
       "      <td>8.3</td>\n",
       "      <td>M</td>\n",
       "      <td>12.62</td>\n",
       "    </tr>\n",
       "  </tbody>\n",
       "</table>\n",
       "</div>"
      ],
      "text/plain": [
       "                         name platform  year_of_release    genre  na_sales  \\\n",
       "31  Call of Duty: Black Ops 3      PS4             2015  Shooter      6.03   \n",
       "42         Grand Theft Auto V      PS4             2014   Action      3.96   \n",
       "\n",
       "    eu_sales  jp_sales  other_sales  critic_score  user_score rating  \\\n",
       "31      5.86      0.36         2.38           NaN         NaN    NaN   \n",
       "42      6.31      0.38         1.97          97.0         8.3      M   \n",
       "\n",
       "    total_sales  \n",
       "31        14.63  \n",
       "42        12.62  "
      ]
     },
     "execution_count": 45,
     "metadata": {},
     "output_type": "execute_result"
    }
   ],
   "source": [
    "persp_platforms_df.query('total_sales > 10')"
   ]
  },
  {
   "cell_type": "code",
   "execution_count": 46,
   "id": "9186ce61",
   "metadata": {
    "scrolled": true
   },
   "outputs": [
    {
     "data": {
      "text/html": [
       "<div>\n",
       "<style scoped>\n",
       "    .dataframe tbody tr th:only-of-type {\n",
       "        vertical-align: middle;\n",
       "    }\n",
       "\n",
       "    .dataframe tbody tr th {\n",
       "        vertical-align: top;\n",
       "    }\n",
       "\n",
       "    .dataframe thead th {\n",
       "        text-align: right;\n",
       "    }\n",
       "</style>\n",
       "<table border=\"1\" class=\"dataframe\">\n",
       "  <thead>\n",
       "    <tr style=\"text-align: right;\">\n",
       "      <th></th>\n",
       "      <th>name</th>\n",
       "    </tr>\n",
       "    <tr>\n",
       "      <th>platform</th>\n",
       "      <th></th>\n",
       "    </tr>\n",
       "  </thead>\n",
       "  <tbody>\n",
       "    <tr>\n",
       "      <th>PS4</th>\n",
       "      <td>44</td>\n",
       "    </tr>\n",
       "    <tr>\n",
       "      <th>XOne</th>\n",
       "      <td>24</td>\n",
       "    </tr>\n",
       "  </tbody>\n",
       "</table>\n",
       "</div>"
      ],
      "text/plain": [
       "          name\n",
       "platform      \n",
       "PS4         44\n",
       "XOne        24"
      ]
     },
     "execution_count": 46,
     "metadata": {},
     "output_type": "execute_result"
    }
   ],
   "source": [
    "persp_platforms_df.query('total_sales > 2').groupby('platform')[['name']].count()"
   ]
  },
  {
   "cell_type": "markdown",
   "id": "30569204",
   "metadata": {},
   "source": [
    "Проанализируем результаты графиков boxplot для платформ PS4 и XOne. Правый «ус» каждого графика находится около значения в 2 миллиона копий. Отсюда можно сделать вывод, что продажи большинства выпускаемых игр для обеих платформ находятся в пределах 2 миллионов копий. Но для каждой из платформ есть несколько десятков игр, продажи которых график характеризует как выбросы, т.е. продажи этих намного больше продаж основной массы, выпускаемых для каждой платформы игр. Причем для PS4 выпущено почти в 2 раза больше успешных по продажам игр – 44 игры, в то время как для XOne – 24 игры. К примеру, продаваемые среди рассматриваемых платформ игры Call of Duty: Black Ops 3 и Grand Theft Auto V, с продажами более 12 млн копий, выпускались на платформе PS4."
   ]
  },
  {
   "cell_type": "markdown",
   "id": "91f4f76f",
   "metadata": {},
   "source": [
    "## Оценка влияния на продажи отзывы пользователей и критиков "
   ]
  },
  {
   "cell_type": "markdown",
   "id": "b0555b36",
   "metadata": {},
   "source": [
    "Посмотрим, как влияют на продажи отзывы пользователей и критиков на примере платформы XOne. Для этого построим диаграмму рассеяния и посчитайте корреляцию между отзывами и продажами. "
   ]
  },
  {
   "cell_type": "code",
   "execution_count": 47,
   "id": "fc129764",
   "metadata": {
    "scrolled": false
   },
   "outputs": [
    {
     "data": {
      "image/png": "[encoded data removed]",
      "text/plain": [
       "<Figure size 1080x360 with 2 Axes>"
      ]
     },
     "metadata": {
      "needs_background": "light"
     },
     "output_type": "display_data"
    }
   ],
   "source": [
    "fig, axs = plt.subplots(1, 2, figsize=(15,5))\n",
    "sns.scatterplot(x='total_sales', \n",
    "                y='critic_score',\n",
    "                alpha=0.5,\n",
    "                data=persp_platforms_df.query('platform == \"XOne\"'),\n",
    "                sizes=(20,5),\n",
    "                ax=axs[0]\n",
    "                )\n",
    "sns.scatterplot(x='total_sales', \n",
    "                y='user_score',\n",
    "                alpha=0.5,\n",
    "                data=persp_platforms_df.query('platform == \"XOne\"'),\n",
    "                sizes=(20,5),\n",
    "                ax=axs[1],\n",
    "                color='purple'\n",
    "                )\n",
    "fig.suptitle(t='Зависимость продаж игр платформы XOne', fontweight='bold')\n",
    "axs[0].set_title('от оценки критиков')\n",
    "axs[1].set_title('от оценки пользователей')\n",
    "axs[0].set_xlabel('Глобальные продажи')\n",
    "axs[1].set_xlabel('Глобальные продажи')\n",
    "axs[0].set_ylabel('Оценка критиков')\n",
    "axs[1].set_ylabel('Оценка пользователей')\n",
    "plt.show()"
   ]
  },
  {
   "cell_type": "code",
   "execution_count": 48,
   "id": "9b96d102",
   "metadata": {},
   "outputs": [
    {
     "data": {
      "text/html": [
       "<div>\n",
       "<style scoped>\n",
       "    .dataframe tbody tr th:only-of-type {\n",
       "        vertical-align: middle;\n",
       "    }\n",
       "\n",
       "    .dataframe tbody tr th {\n",
       "        vertical-align: top;\n",
       "    }\n",
       "\n",
       "    .dataframe thead th {\n",
       "        text-align: right;\n",
       "    }\n",
       "</style>\n",
       "<table border=\"1\" class=\"dataframe\">\n",
       "  <thead>\n",
       "    <tr style=\"text-align: right;\">\n",
       "      <th></th>\n",
       "      <th>total_sales</th>\n",
       "      <th>critic_score</th>\n",
       "      <th>user_score</th>\n",
       "    </tr>\n",
       "  </thead>\n",
       "  <tbody>\n",
       "    <tr>\n",
       "      <th>total_sales</th>\n",
       "      <td>1.000000</td>\n",
       "      <td>0.416998</td>\n",
       "      <td>-0.068925</td>\n",
       "    </tr>\n",
       "    <tr>\n",
       "      <th>critic_score</th>\n",
       "      <td>0.416998</td>\n",
       "      <td>1.000000</td>\n",
       "      <td>0.472462</td>\n",
       "    </tr>\n",
       "    <tr>\n",
       "      <th>user_score</th>\n",
       "      <td>-0.068925</td>\n",
       "      <td>0.472462</td>\n",
       "      <td>1.000000</td>\n",
       "    </tr>\n",
       "  </tbody>\n",
       "</table>\n",
       "</div>"
      ],
      "text/plain": [
       "              total_sales  critic_score  user_score\n",
       "total_sales      1.000000      0.416998   -0.068925\n",
       "critic_score     0.416998      1.000000    0.472462\n",
       "user_score      -0.068925      0.472462    1.000000"
      ]
     },
     "execution_count": 48,
     "metadata": {},
     "output_type": "execute_result"
    }
   ],
   "source": [
    "persp_platforms_df.query('platform == \"XOne\"')[['total_sales', 'critic_score', 'user_score']].corr()"
   ]
  },
  {
   "cell_type": "markdown",
   "id": "f87c4208",
   "metadata": {},
   "source": [
    "Диаграмма рассеяния для параметров значений глобальных продаж игр и отзывов критиков показывает, что как правило игры с высокими продажами (от 2 млн копий) имеют высокие оценки критиков (более 70), на основании чего можно предположить о наличии взаимосвязи продаж игры от оценки критиков – «чем выше оценка критиков, тем выше продажи».\n",
    "Что касается оценки пользователей, то диаграмма рассеяния не позволяет сделать аналогичные выводы. К примеру, для игр с большими продажами оценки пользователей далеко не самые высокие (от 3 до 8). В то же время для игр с высокими оценками пользователей (более 8) продажи не самые большие (до 1 млн копий).\n",
    "Выводы подтверждаются значением коэффициента корреляции Пирсона. Для оценки критиков и продаж коэффициент равен 0,42 (не самая тесная взаимосвязь, но и сделать вывод об отсутствии взаимосвязи тоже нельзя), а значение коэффициента для оценки зависимости продаж с оценками пользователей составляет -0,07, что означает практически отсутствие взаимосвязи.\n"
   ]
  },
  {
   "cell_type": "markdown",
   "id": "29a50043",
   "metadata": {},
   "source": [
    "Посмотрим, как соотносятся сделанные выводы о продажах игр на платформах PS4 и XOne c продажами игр на других платформах.\n",
    "Построим «ящик с усами» для глобальных продаж топ-10 платформ."
   ]
  },
  {
   "cell_type": "code",
   "execution_count": 49,
   "id": "ec6b74d3",
   "metadata": {},
   "outputs": [
    {
     "data": {
      "image/png": "[encoded data removed]",
      "text/plain": [
       "<Figure size 1080x360 with 1 Axes>"
      ]
     },
     "metadata": {
      "needs_background": "light"
     },
     "output_type": "display_data"
    }
   ],
   "source": [
    "fig, ax = plt.subplots(figsize=(15, 5))\n",
    "ax = sns.boxplot(data=top_platforms_df, y='platform', x='total_sales', orient='h')\n",
    "ax.set(xlim=(0, 40))\n",
    "ax.set_title('Глобальные продажи для популярных платформ')\n",
    "ax.set_xlabel('Глобальные продажи')\n",
    "ax.set_ylabel(None)\n",
    "\n",
    "plt.show()"
   ]
  },
  {
   "cell_type": "markdown",
   "id": "d9e771d4",
   "metadata": {},
   "source": [
    "Также построим диаграммы рассеяния для оценки зависимости глобальных продаж топ-5 платформ от оценок критиков и пользователей."
   ]
  },
  {
   "cell_type": "code",
   "execution_count": 50,
   "id": "6eb8f2db",
   "metadata": {},
   "outputs": [
    {
     "data": {
      "image/png": "[encoded data removed]",
      "text/plain": [
       "<Figure size 1260x360 with 1 Axes>"
      ]
     },
     "metadata": {
      "needs_background": "light"
     },
     "output_type": "display_data"
    }
   ],
   "source": [
    "fig, ax = plt.subplots(figsize=(17.5, 5))\n",
    "top_5_platforms = top_platforms.iloc[:5]\n",
    "ax = sns.scatterplot(x='total_sales', \n",
    "                y='critic_score',\n",
    "                hue='platform',\n",
    "                alpha=0.4,\n",
    "                data=top_platforms_df.query('platform in @top_5_platforms'),\n",
    "                sizes=(20,5)\n",
    "            )\n",
    "ax.set(xlim=(0, 20))\n",
    "ax.set_title('Зависимость продаж от оценки критиков')\n",
    "ax.set_xlabel('Глобальные продажи')\n",
    "ax.set_ylabel('Оценка критиков')\n",
    "\n",
    "plt.show()"
   ]
  },
  {
   "cell_type": "code",
   "execution_count": 51,
   "id": "e2c78557",
   "metadata": {},
   "outputs": [
    {
     "data": {
      "image/png": "[encoded data removed]",
      "text/plain": [
       "<Figure size 1260x360 with 1 Axes>"
      ]
     },
     "metadata": {
      "needs_background": "light"
     },
     "output_type": "display_data"
    }
   ],
   "source": [
    "fig, ax = plt.subplots(figsize=(17.5, 5))\n",
    "top_5_platforms = top_platforms.iloc[:5]\n",
    "ax = sns.scatterplot(x='total_sales', \n",
    "                y='user_score',\n",
    "                hue='platform',\n",
    "                alpha=0.4,\n",
    "                data=top_platforms_df.query('platform in @top_5_platforms'),\n",
    "                sizes=(20,5)\n",
    "            )\n",
    "ax.set(xlim=(0, 20))\n",
    "ax.set_title('Зависимость продаж от оценки пользователей')\n",
    "ax.set_xlabel('Глобальные продажи')\n",
    "ax.set_ylabel('Оценка пользователей')\n",
    "\n",
    "plt.show()"
   ]
  },
  {
   "cell_type": "markdown",
   "id": "c2f7f05a",
   "metadata": {},
   "source": [
    "Выводы, основанные на анализе глобальных продаж платформ PS4 и XOne, справедливы и для других платформ. Для них так же характерно распределение игр по продажам с большим количеством «выбросов», т.е. игр которые действительно достигли высокого уровня продаж немного относительно общего количества выпускаемых для платформы игр. \n",
    "Так же для платформ характерно то, что игры с большими продажами имеют высокие оценки критиков. Оценки пользователей имеют бóльший разброс для игр с высокими продажами. "
   ]
  },
  {
   "cell_type": "markdown",
   "id": "f86560ee",
   "metadata": {},
   "source": [
    "## Общее распределение игр по жанрам "
   ]
  },
  {
   "cell_type": "markdown",
   "id": "e68be585",
   "metadata": {},
   "source": [
    "Для оценки распределения игр по жанрам сгруппируем датафрейм по жанру и посчитаем сумму продаж для каждого жанра. По полученным значениям построим график."
   ]
  },
  {
   "cell_type": "code",
   "execution_count": 52,
   "id": "35773fcc",
   "metadata": {},
   "outputs": [
    {
     "data": {
      "text/html": [
       "<div>\n",
       "<style scoped>\n",
       "    .dataframe tbody tr th:only-of-type {\n",
       "        vertical-align: middle;\n",
       "    }\n",
       "\n",
       "    .dataframe tbody tr th {\n",
       "        vertical-align: top;\n",
       "    }\n",
       "\n",
       "    .dataframe thead tr th {\n",
       "        text-align: left;\n",
       "    }\n",
       "\n",
       "    .dataframe thead tr:last-of-type th {\n",
       "        text-align: right;\n",
       "    }\n",
       "</style>\n",
       "<table border=\"1\" class=\"dataframe\">\n",
       "  <thead>\n",
       "    <tr>\n",
       "      <th></th>\n",
       "      <th colspan=\"2\" halign=\"left\">total_sales</th>\n",
       "    </tr>\n",
       "    <tr>\n",
       "      <th></th>\n",
       "      <th>count</th>\n",
       "      <th>sum</th>\n",
       "    </tr>\n",
       "    <tr>\n",
       "      <th>genre</th>\n",
       "      <th></th>\n",
       "      <th></th>\n",
       "    </tr>\n",
       "  </thead>\n",
       "  <tbody>\n",
       "    <tr>\n",
       "      <th>Action</th>\n",
       "      <td>3223</td>\n",
       "      <td>1645.42</td>\n",
       "    </tr>\n",
       "    <tr>\n",
       "      <th>Sports</th>\n",
       "      <td>2251</td>\n",
       "      <td>1270.85</td>\n",
       "    </tr>\n",
       "    <tr>\n",
       "      <th>Shooter</th>\n",
       "      <td>1247</td>\n",
       "      <td>967.94</td>\n",
       "    </tr>\n",
       "    <tr>\n",
       "      <th>Role-Playing</th>\n",
       "      <td>1434</td>\n",
       "      <td>888.47</td>\n",
       "    </tr>\n",
       "    <tr>\n",
       "      <th>Misc</th>\n",
       "      <td>1701</td>\n",
       "      <td>773.67</td>\n",
       "    </tr>\n",
       "    <tr>\n",
       "      <th>Racing</th>\n",
       "      <td>1206</td>\n",
       "      <td>693.72</td>\n",
       "    </tr>\n",
       "    <tr>\n",
       "      <th>Platform</th>\n",
       "      <td>808</td>\n",
       "      <td>611.83</td>\n",
       "    </tr>\n",
       "    <tr>\n",
       "      <th>Fighting</th>\n",
       "      <td>793</td>\n",
       "      <td>405.57</td>\n",
       "    </tr>\n",
       "    <tr>\n",
       "      <th>Simulation</th>\n",
       "      <td>842</td>\n",
       "      <td>379.12</td>\n",
       "    </tr>\n",
       "    <tr>\n",
       "      <th>Adventure</th>\n",
       "      <td>1280</td>\n",
       "      <td>210.25</td>\n",
       "    </tr>\n",
       "    <tr>\n",
       "      <th>Strategy</th>\n",
       "      <td>658</td>\n",
       "      <td>166.88</td>\n",
       "    </tr>\n",
       "    <tr>\n",
       "      <th>Puzzle</th>\n",
       "      <td>533</td>\n",
       "      <td>158.37</td>\n",
       "    </tr>\n",
       "  </tbody>\n",
       "</table>\n",
       "</div>"
      ],
      "text/plain": [
       "             total_sales         \n",
       "                   count      sum\n",
       "genre                            \n",
       "Action              3223  1645.42\n",
       "Sports              2251  1270.85\n",
       "Shooter             1247   967.94\n",
       "Role-Playing        1434   888.47\n",
       "Misc                1701   773.67\n",
       "Racing              1206   693.72\n",
       "Platform             808   611.83\n",
       "Fighting             793   405.57\n",
       "Simulation           842   379.12\n",
       "Adventure           1280   210.25\n",
       "Strategy             658   166.88\n",
       "Puzzle               533   158.37"
      ]
     },
     "execution_count": 52,
     "metadata": {},
     "output_type": "execute_result"
    }
   ],
   "source": [
    "# считаем суммарные глобальные среди всех платформ продажи игр по жанрам \n",
    "df_rel_years.groupby('genre').agg({'total_sales': ['count','sum']}).sort_values(('total_sales', 'sum'), ascending=False)"
   ]
  },
  {
   "cell_type": "code",
   "execution_count": 53,
   "id": "ef6e1c34",
   "metadata": {},
   "outputs": [],
   "source": [
    "# Для каждого жанра считаем долю в общем количестве выпускаемых игр и долю в суммарных глобальных продажах\n",
    "genre_count_share = df.groupby('genre').agg({'total_sales': 'count'}) / len(df) * 100\n",
    "genre_count_share = np.round(genre_count_share, decimals=1)"
   ]
  },
  {
   "cell_type": "code",
   "execution_count": 54,
   "id": "68812ed2",
   "metadata": {},
   "outputs": [],
   "source": [
    "genre_sum_share = df.groupby('genre').agg({'total_sales': 'sum'}) / df['total_sales'].sum() * 100\n",
    "genre_sum_share = np.round(genre_sum_share, decimals=1)"
   ]
  },
  {
   "cell_type": "code",
   "execution_count": 69,
   "id": "4c25e1e4",
   "metadata": {
    "scrolled": true
   },
   "outputs": [
    {
     "data": {
      "image/png": "[encoded data removed]",
      "text/plain": [
       "<Figure size 1080x360 with 1 Axes>"
      ]
     },
     "metadata": {
      "needs_background": "light"
     },
     "output_type": "display_data"
    }
   ],
   "source": [
    "labels = genre_count_share.index\n",
    "x = np.arange(len(labels))\n",
    "\n",
    "fig, ax = plt.subplots(figsize=(15,5))\n",
    "width = 0.35\n",
    "rects1 = ax.bar(x - width/2, genre_count_share['total_sales'], width, label='% от общего количества')\n",
    "rects2 = ax.bar(x + width/2, genre_sum_share['total_sales'], width, label='% от общего объема продаж')\n",
    "\n",
    "#ax.bar_label(rects1, padding=3) в JupyterHub приводит к ошибке\n",
    "#ax.bar_label(rects2, padding=3)\n",
    "ax.set_xticks(x)\n",
    "ax.set_xticklabels(labels)\n",
    "\n",
    "ax.legend()\n",
    "\n",
    "fig.tight_layout()\n",
    "\n",
    "ax.set_title('Распределение количества и продаж игр по жанрам')\n",
    "\n",
    "plt.show()"
   ]
  },
  {
   "cell_type": "markdown",
   "id": "f2c565ca",
   "metadata": {},
   "source": [
    "Самые распространённым жанром является Action (20% от общего количества выпущенных игр) - каждая пятая выпускаемая игра является игрой в жанре Action. Игры этого жанра также лидируют по количеству проданных копий (19,4% от общего числа). Следующими по популярности жанрами являются Sports (14,1% от количества выпущенных игр, 15% проданных копий) и Misc (14,1% от количества выпущенных игр, 15% проданных копий). По 7,9% от общего количества выпущенных игр занимают жанры Adventure и Shooter, однако доли в продажах у них значительно отличаются, для Adventure доля проданных копий составляет всего 2,6% от общего числа продаж, а для жанра Shooter – 11,8%. "
   ]
  },
  {
   "cell_type": "markdown",
   "id": "aa859eba",
   "metadata": {},
   "source": [
    "### Вывод по результатам исследовательского анализа\n",
    "1.  В ходе исследовательского анализа за анализируемый период принят период с 1995 по 2016 год, период за который выходило более 200 игр в год.\n",
    "2. По результатам суммарных продаж определены топ-10 платформ, продажи игр для которых за анализируемый период были наибольшими. Для каждой платформы построен график изменения суммарных продаж по годам. Определено, что характерный срок, когда появляются новые и исчезают старые платформы, составляет пять лет.\n",
    "3. По результатам анализа пятилетнего интервала 2011-2015 годов определены потенциально прибыльные платформ на ближайшую перспективу платформы - платформы PlayStation 4 (PS4) и Xbox One (XOne).\n",
    "4. Для каждой из платформ характерны следующие особенности:\n",
    "    * не все выпускаемые игры для плафтормы одинаково успешны в продажах, самые успешые по продажам игры могут в несколько раз превосходить продажи игр, составлящих более 90% от общего количества выпускаемых для платформы игр;\n",
    "    * как правило игры с наибольшими продажами высоко оценены критиками.\n",
    "5. Самым популярным жанром игр является Action - каждая пятая выпускаемая игра выполнена в жанре Action. Также популярный жанры Sports и Shooter.\n"
   ]
  },
  {
   "cell_type": "markdown",
   "id": "eacf1b10",
   "metadata": {},
   "source": [
    "# Портрет пользователя каждого региона"
   ]
  },
  {
   "cell_type": "markdown",
   "id": "98a60406",
   "metadata": {},
   "source": [
    "Охарактеризуем, как отличаются продажи в зависимости от региона – Северная Америка, Европа и Япония."
   ]
  },
  {
   "cell_type": "markdown",
   "id": "640b3be5",
   "metadata": {},
   "source": [
    "## Самые популярные платформы (топ-5)"
   ]
  },
  {
   "cell_type": "markdown",
   "id": "d77d4043",
   "metadata": {},
   "source": [
    "Построим для каждого региона график с топ-5 популярными платформами. Оцениваемый параметр будет доля продаж каждой платформы в общей сумме проданных копий в регионе."
   ]
  },
  {
   "cell_type": "code",
   "execution_count": 56,
   "id": "3ff51129",
   "metadata": {},
   "outputs": [],
   "source": [
    "# Список исследуемых столбцов\n",
    "sales_col = ['na_sales', 'eu_sales', 'jp_sales']"
   ]
  },
  {
   "cell_type": "code",
   "execution_count": 57,
   "id": "e57f1253",
   "metadata": {},
   "outputs": [],
   "source": [
    "# Запишем функцию для расчета топ-5 значений по доле продаж в зависимости от выбранного параметра\n",
    "def top_5(col, sales_col):\n",
    "    return (df_rel_years\n",
    "    .query('year_of_release >= 2011')\n",
    "     .groupby(col)[[sales_col]]\n",
    "     .sum()\n",
    "     .apply(lambda x: np.round(x/sum(x)*100, decimals=1))\n",
    "     .sort_values(sales_col,ascending=False)\n",
    "     .iloc[:5]        \n",
    ")"
   ]
  },
  {
   "cell_type": "code",
   "execution_count": 58,
   "id": "1aba9184",
   "metadata": {},
   "outputs": [
    {
     "data": {
      "image/png": "[encoded data removed]",
      "text/plain": [
       "<Figure size 1080x324 with 3 Axes>"
      ]
     },
     "metadata": {
      "needs_background": "light"
     },
     "output_type": "display_data"
    }
   ],
   "source": [
    "fig, (ax1, ax2, ax3) = plt.subplots(1, 3, figsize=(15,4.5))\n",
    "\n",
    "pl_1 = top_5('platform', 'na_sales'), \"Северная Америка\"\n",
    "pl_2 = top_5('platform', 'eu_sales'), \"Европа\"\n",
    "pl_3 = top_5('platform', 'jp_sales'), \"Япония\"\n",
    "\n",
    "pl_ax1 = ax1.bar(x=pl_1[0].index, height=pl_1[0]['na_sales'], data=pl_1[0])\n",
    "pl_ax2 = ax2.bar(x=pl_2[0].index, height=pl_2[0]['eu_sales'], data=pl_2[0], color='green')\n",
    "pl_ax3 = ax3.bar(x=pl_3[0].index, height=pl_3[0]['jp_sales'], data=pl_3[0], color='brown')\n",
    "\n",
    "#ax1.bar_label(pl_ax1, padding=3)\n",
    "#ax2.bar_label(pl_ax2, padding=3)\n",
    "#ax3.bar_label(pl_ax3, padding=3)\n",
    "fig.suptitle(t=\"Топ-5 платформ, % от общих продаж\", fontweight='bold')\n",
    "ax1.set_title(pl_1[1])\n",
    "ax2.set_title(pl_2[1])\n",
    "ax3.set_title(pl_3[1])\n",
    "\n",
    "fig.tight_layout()\n",
    "plt.show()"
   ]
  },
  {
   "cell_type": "markdown",
   "id": "db717334",
   "metadata": {},
   "source": [
    "В каждом из исследуемых регионов свой лидер по количеству проданных копий игр за период с 2011 по 2016 г. \\\n",
    "Хотя в Северной Америке тройку лидеров составляют одни и те же платформы: X360, PS3 и PS4. \n",
    "В Северной Америке лидер по продажам игр - это платформа X360 (27,3%), на втором месте платформа PS3 (20,3%), на третьем месте PS4 (13,1%). В Европе лидером по количеству проданных копий игр является платформа PS3 (24.3%), на втором месте - PS4 (21,1%), на третьем – X360 (17,5%). \\\n",
    "Данные о топ-5 платформах в Японии кардинально отличаются, здесь с большим отрывом лидирует платформа Nintendo 3DS(41% проданных игр), в то время как в Северной Америке она замыкает пятерку лидеров, а в Европе находится на четвертом месте. На втором месте в Японии платформа PS3 (20,1%), на третьем - PSP (9,8%). Примечательно, что в других регионах PSP вообще не вошла в топ-5 платформ, а X360 не вошла в топ-5 платформ в Японии."
   ]
  },
  {
   "cell_type": "markdown",
   "id": "ca0d5f63",
   "metadata": {},
   "source": [
    "## Самые популярные жанры (топ-5)"
   ]
  },
  {
   "cell_type": "markdown",
   "id": "acbf6427",
   "metadata": {},
   "source": [
    "Теперь построим для каждого региона график с топ-5 популярными жанрами игр."
   ]
  },
  {
   "cell_type": "code",
   "execution_count": 70,
   "id": "0e702b11",
   "metadata": {},
   "outputs": [
    {
     "data": {
      "image/png": "[encoded data removed]",
      "text/plain": [
       "<Figure size 1080x324 with 3 Axes>"
      ]
     },
     "metadata": {
      "needs_background": "light"
     },
     "output_type": "display_data"
    }
   ],
   "source": [
    "fig, (ax1, ax2, ax3) = plt.subplots(1, 3, figsize=(15,4.5))\n",
    "\n",
    "pl_1 = top_5('genre', 'na_sales'), \"Северная Америка\"\n",
    "pl_2 = top_5('genre', 'eu_sales'), \"Европа\"\n",
    "pl_3 = top_5('genre', 'jp_sales'), \"Япония\"\n",
    "\n",
    "pl_ax1 = ax1.bar(x=pl_1[0].index, height=pl_1[0]['na_sales'], data=pl_1[0])\n",
    "pl_ax2 = ax2.bar(x=pl_2[0].index, height=pl_2[0]['eu_sales'], data=pl_2[0], color='green')\n",
    "pl_ax3 = ax3.bar(x=pl_3[0].index, height=pl_3[0]['jp_sales'], data=pl_3[0], color='brown')\n",
    "\n",
    "#ax1.bar_label(pl_ax1, padding=3)\n",
    "#ax2.bar_label(pl_ax2, padding=3)\n",
    "#ax3.bar_label(pl_ax3, padding=3)\n",
    "fig.suptitle(t='Топ-5 жанров, % от общих продаж', fontweight='bold')\n",
    "ax1.set_title(pl_1[1])\n",
    "ax2.set_title(pl_2[1])\n",
    "ax3.set_title(pl_3[1])\n",
    "\n",
    "fig.tight_layout()\n",
    "plt.show()"
   ]
  },
  {
   "cell_type": "markdown",
   "id": "9a1da902",
   "metadata": {},
   "source": [
    "Что касается выбора жанров, то снова наблюдается солидарность пользователей из Северной Америки и Европы. Причем в этих двух регионах предпочтения пользователей распределилось одинаковым образом: на первом месте по популярности игры жанра Action (27,8% в Северной Америке и 29,8% в Европе), на втором месте - жанр Shooter (23,4% в Северной Америке и 22,1% в Европе), и на третьем месте - жанр Sports (27,8% в Северной Америке и 29,8% в Европе). \\\n",
    "Жанровые предпочтения японских пользователей отличаются от североамериканских и европейских пользователей, здесь самый популярный жанр - Role-Playing (32,5% игр). Жанр Action в Японии тоже достаточно популярен - 25,9% покупаемых игр. На третьем месте с большим отрывом - жанр Misc (7,2%)."
   ]
  },
  {
   "cell_type": "markdown",
   "id": "c549f4fb",
   "metadata": {},
   "source": [
    "## Оценка влияния рейтинга ESRB на продажи"
   ]
  },
  {
   "cell_type": "markdown",
   "id": "eff998a2",
   "metadata": {},
   "source": [
    "Посмотрим, как влияет рейтинг ESRB на продажи."
   ]
  },
  {
   "cell_type": "code",
   "execution_count": 60,
   "id": "fb79101a",
   "metadata": {},
   "outputs": [
    {
     "data": {
      "image/png": "[encoded data removed]",
      "text/plain": [
       "<Figure size 432x288 with 1 Axes>"
      ]
     },
     "metadata": {
      "needs_background": "light"
     },
     "output_type": "display_data"
    },
    {
     "data": {
      "image/png": "[encoded data removed]",
      "text/plain": [
       "<Figure size 432x288 with 1 Axes>"
      ]
     },
     "metadata": {
      "needs_background": "light"
     },
     "output_type": "display_data"
    },
    {
     "data": {
      "image/png": "[encoded data removed]",
      "text/plain": [
       "<Figure size 432x288 with 1 Axes>"
      ]
     },
     "metadata": {
      "needs_background": "light"
     },
     "output_type": "display_data"
    }
   ],
   "source": [
    "# Циклом построим графики для продаж игр, которым присвоен тот или иной рейтинг\n",
    "for col in sales_col:\n",
    "    (df_rel_years\n",
    "     .query('year_of_release >= 2011')\n",
    "     .pivot_table(index='rating',values=col)\n",
    "     .sort_values(col,ascending=False)\n",
    "     .plot(kind='bar')\n",
    "    )\n",
    "    plt.show()"
   ]
  },
  {
   "cell_type": "markdown",
   "id": "7c6abf90",
   "metadata": {},
   "source": [
    "Расшифровка обозначения рейтинга (по данным [Википедии](https://ru.wikipedia.org/wiki/Entertainment_Software_Rating_Board)):\n",
    "* **М** (\"Mature\") - для взрослых (17+)\n",
    "* **T** (\"Teens\") - для подростков (13+)\n",
    "* **E** (\"Everyone\") - для всех возрастов\n",
    "* **EC** (\"Early childhood\") — для детей младшего возраста\n",
    "* **E10+** (\"Everyone 10 and older\") — для всех от 10 лет и старше\n",
    "* **RP** (\"Rating Pending») — рейтинг ожидается."
   ]
  },
  {
   "cell_type": "markdown",
   "id": "3268a58e",
   "metadata": {},
   "source": [
    "Если распределить продажи игр по присвоенным им рейтингам, то можно увидеть, что в Северной Америке и Европе наибольшие продажи имеюи игры для взрослых с рейтингом М. В Японии больше остальных продаж приносят игры, подходящие всем возрастам, с рейтингом Е."
   ]
  },
  {
   "cell_type": "markdown",
   "id": "b96e6742",
   "metadata": {},
   "source": [
    "### Вывод по результатам анализа пользователей разных регионов"
   ]
  },
  {
   "cell_type": "markdown",
   "id": "bd42c750",
   "metadata": {},
   "source": [
    "В ходе анализа по количеству проданных экземеляров игр в разрезе игровых платформ и жанров определено, что предпочтения пользователей Северной Америки и Европы во многом схожи. И в том и в другом регионе в 2011-2015 годах были наболее популярны одни и те же игровые платформы - Xbox 360, PlayStation 3 и PlayStation 4. Также схожи жанровые предпочтения североамериканских и европейских пользователей: и те, и другие предпочитают жанры Action, Shooter и Sports. В обоих регионах по продажам лидируюи игры для возрастной категории 17+ (рейтинг М по классификации ESRB).\\\n",
    "Что касается пользователей из Японии, то там по продажам копий лидируют другие платформы и жанры, чем в Северной Америке и Европе. В целом в Японии большую популярность имеют портативные платформы. Самой популярной игровой плаформой в 2011 - 2016 здесь была портативная консоль Nintendo 3DS, которая в 2 раза обошла по продажам PlayStation 3. В тройку лидеров здесь вошла также PlayStation Portable, которой не было в топ-5 платформ в Северной Америке и Европе. Среди жанров японские пользователей предпочитают ролевые игры (Role-Playing). Наиболее продавамые игры в Японии не имеют возрастных ограничений (рейтинг E)."
   ]
  },
  {
   "cell_type": "markdown",
   "id": "e696ee31",
   "metadata": {},
   "source": [
    "# Проверка гипотез"
   ]
  },
  {
   "cell_type": "markdown",
   "id": "11daa5e6",
   "metadata": {},
   "source": [
    "## Гипотеза:1 Средние пользовательские рейтинги платформ Xbox One и PC одинаковые"
   ]
  },
  {
   "cell_type": "markdown",
   "id": "f401c7b8",
   "metadata": {},
   "source": [
    "Для того, чтобы проверить равенство cредних пользовательские рейтинги двух выборок, проведем проверку статистической гипотезы о равенстве двух средних значений независимых совокупностей. Сформулируем нулевую и альтернативную гипотезы.\n",
    "\n",
    "**Нулевая гипотеза:** Средние пользовательские рейтинги платформ Xbox One и PC одинаковые.\\\n",
    "**Альтернативная гипотеза**: Средние пользовательские рейтинги платформ Xbox One и PC разные.\n",
    "\n",
    "Проверка нулевой гипотезы проведем с помощью t-теста.  В результате мы получим значение вероятности (pvalue) \n",
    "\n",
    "Уровень значимости (alpha) назначим равным 5%. Если полученное значение pvaluе будет меньше заданного порога, то это будет означать, что наблюдаемые данные не поддерживают нулевую гипотезу и она должна быть отклонена."
   ]
  },
  {
   "cell_type": "code",
   "execution_count": 61,
   "id": "8058a510",
   "metadata": {
    "scrolled": true
   },
   "outputs": [
    {
     "data": {
      "text/plain": [
       "3.1842162951287645e-06"
      ]
     },
     "execution_count": 61,
     "metadata": {},
     "output_type": "execute_result"
    }
   ],
   "source": [
    "alpha = .05\n",
    "pl_rating_result = st.ttest_ind(df_rel_years.query('platform == \"XOne\"')['user_score'].dropna(), \n",
    "                             df_rel_years.query('platform == \"PC\"')['user_score'].dropna(), \n",
    "                            equal_var=False)\n",
    "pl_rating_result.pvalue"
   ]
  },
  {
   "cell_type": "markdown",
   "id": "bb8cc8dd",
   "metadata": {},
   "source": [
    "Полученное значение (pvalue) намного ниже порогового значения (5%), то нулевую гипотезу отклоняем. Следовательно,  средние пользовательские рейтинги платформ Xbox One и PC различаются."
   ]
  },
  {
   "cell_type": "markdown",
   "id": "2de8b4c0",
   "metadata": {},
   "source": [
    "Посчитаем средние пользовательские рейтинги обоих платформ."
   ]
  },
  {
   "cell_type": "code",
   "execution_count": 62,
   "id": "faabb7ee",
   "metadata": {},
   "outputs": [
    {
     "data": {
      "text/plain": [
       "6.52142857142857"
      ]
     },
     "execution_count": 62,
     "metadata": {},
     "output_type": "execute_result"
    }
   ],
   "source": [
    "np.mean(df_rel_years.query('platform == \"XOne\"')['user_score'])"
   ]
  },
  {
   "cell_type": "code",
   "execution_count": 63,
   "id": "daf0a568",
   "metadata": {},
   "outputs": [
    {
     "data": {
      "text/plain": [
       "7.0745019920318875"
      ]
     },
     "execution_count": 63,
     "metadata": {},
     "output_type": "execute_result"
    }
   ],
   "source": [
    "np.mean(df_rel_years.query('platform == \"PC\"')['user_score'])"
   ]
  },
  {
   "cell_type": "markdown",
   "id": "7f994d49",
   "metadata": {},
   "source": [
    "Средняя пользовательская оценка платформы PC выше, чем платформы XOne, что подтверждает вывод, сделанный по результатам проверки гипотезы. "
   ]
  },
  {
   "cell_type": "markdown",
   "id": "b13a9af7",
   "metadata": {},
   "source": [
    "## Гипотеза 2: Средние пользовательские рейтинги жанров Action  и Sports разные"
   ]
  },
  {
   "cell_type": "markdown",
   "id": "0fe2f57f",
   "metadata": {},
   "source": [
    "Как и предыдущую данную гипотезу проверим с помощью t-теста. Уровень значимости (alpha)так же назначим равным 5%.\n",
    "\n",
    "**Нулевая гипотеза:** Средние пользовательские рейтинги жанров Action и Sports равны.\\\n",
    "**Альтернативная гипотеза**: Средние пользовательские рейтинги жанров Action и Sports разные."
   ]
  },
  {
   "cell_type": "code",
   "execution_count": 64,
   "id": "b623c04a",
   "metadata": {},
   "outputs": [
    {
     "data": {
      "text/plain": [
       "0.09824601986807958"
      ]
     },
     "execution_count": 64,
     "metadata": {},
     "output_type": "execute_result"
    }
   ],
   "source": [
    "alpha = .05\n",
    "genre_rating_result = st.ttest_ind(df_rel_years.query('genre == \"Action\"')['user_score'].dropna(), \n",
    "                             df_rel_years.query('genre == \"Sports\"')['user_score'].dropna(), \n",
    "                            equal_var=False)\n",
    "genre_rating_result.pvalue"
   ]
  },
  {
   "cell_type": "markdown",
   "id": "4b86f5d3",
   "metadata": {},
   "source": [
    "Полученное значение (pvalue) 9,8% выше порогового значения (5%), следовательно, отклонить нулевую гипотезу нельзя. Следовательно должна быть отвергнута альтернативная гипотеза о том, что средние пользовательские рейтинги жанров Action и Sports разные.\n",
    "\n",
    "Посчитаем средние пользовательские рейтинги жанров Action и Sports."
   ]
  },
  {
   "cell_type": "code",
   "execution_count": 65,
   "id": "bb58f9f9",
   "metadata": {},
   "outputs": [
    {
     "data": {
      "text/plain": [
       "7.058931552587641"
      ]
     },
     "execution_count": 65,
     "metadata": {},
     "output_type": "execute_result"
    }
   ],
   "source": [
    "np.mean(df_rel_years.query('genre == \"Action\"')['user_score'])"
   ]
  },
  {
   "cell_type": "code",
   "execution_count": 66,
   "id": "20728f8a",
   "metadata": {},
   "outputs": [
    {
     "data": {
      "text/plain": [
       "6.960606060606062"
      ]
     },
     "execution_count": 66,
     "metadata": {},
     "output_type": "execute_result"
    }
   ],
   "source": [
    "np.mean(df_rel_years.query('genre == \"Sports\"')['user_score'])"
   ]
  },
  {
   "cell_type": "markdown",
   "id": "6ddae92c",
   "metadata": {},
   "source": [
    "Для обоих жанров средняя пользовательская оценка составляет около 7 баллов, а значит то, что мы не отвергли нулевую гипотезу о равенстве двух средних, не является ошибкой."
   ]
  },
  {
   "cell_type": "markdown",
   "id": "a0d3bbfe",
   "metadata": {},
   "source": [
    "# Общий вывод"
   ]
  },
  {
   "cell_type": "markdown",
   "id": "b07545f1",
   "metadata": {},
   "source": [
    "Целью исследования было выявить закономерности, определяющие успешность игры, которые помогут интернет-магазину «Стримчик» определить потенциально популярный продукт и спланировать рекламные кампании на 2017 год.\n",
    "\n",
    "Анализ выполнен на основании данных о продажах игр за период с 1980 по 2016 годы в Северной Америке, Европе, Японии и других регионах с указанием жанра каждой игры, платформы, на которой она вышла, оценками критиков и пользователей, а также рейтингом ESRB.\n",
    "\n",
    "Перед непосредственным анализом данные были обработаны (изменены типы данных, обработаны пропуски, выполнены дополнительные расчеты).\n",
    "\n",
    "В ходе анализа выявлено, что в среднем срок, за который появляются новые и исчезают старые платформы, составляет пять лет. Поэтому для планирования рекламной кампании на 2017 год следовало рассматривать не весь доступный временной интервал, а 2011 - 2015 годы (данные за 2016 год не полные).\n",
    "\n",
    "По данным о глобальных продажах игр в 2011 - 2015 годах определены потенциально прибыльные платформы - PlayStation 4 и Xbox One.\\\n",
    "Анализ глобальных продаж по жанрам игр показал, что наиболее продаваемыми жанрами являются Action, Sports и Shooter.\\\n",
    "При определении потенциально популярного продукта следует уделять внимание оценки критиков. Игры с большим количеством проданных копий как правило имеют высокий рейтинг у критиков. \n",
    "\n",
    "Однако при планировании рекламных кампаний необходимо учитывать региональные особенности. Если предпочтения пользователей из Северной Америки и Европы во многом схожи, то в Японии по продажам лидирует другие платформ и жанры. В Северной Америке и Европе популярны одни и те же платформы - Xbox 360, PlayStation 3 и PlayStation 4, а также жанры игр - Action, Shooter и Sports. Больше других в этих регионах продаются игры для возрастной категории 17+ (рейтинг М).\\\n",
    "В Японии платформа PlayStation 3 была тоже популярна как в Америке и Европе, но уступала по продажам портативной Nintendo 3DS. Жанровые предпочтения японских пользователей так же отличаются. Самым продаваемым жанром здесь является Role-Playing, следующими по популярности идут жанры Action и Misc. Возрастная категория наиболее продаваемых игр в Японии - это категория для всех возрастов (рейтинг E).\n",
    "\n",
    "Дополнительная строка",
    "\n",
    "Дополнительно проведены проверки двух гипотез.  Гипотеза о равенстве средних пользовательских рейтингов платформ Xbox One и PC была отвергнута (у ЗС рейтинг выше на полбалла). Гипотеза о том, что средние пользовательские рейтинги жанров Action и Sports разные, была также отвергнута (средние рейтинги обоих жанров - около 7 баллов)."
   ]
  }
 ],
 "metadata": {
  "kernelspec": {
   "display_name": "Python 3 (ipykernel)",
   "language": "python",
   "name": "python3"
  },
  "language_info": {
   "codemirror_mode": {
    "name": "ipython",
    "version": 3
   },
   "file_extension": ".py",
   "mimetype": "text/x-python",
   "name": "python",
   "nbconvert_exporter": "python",
   "pygments_lexer": "ipython3",
   "version": "3.9.7"
  },
  "toc": {
   "base_numbering": 1,
   "nav_menu": {},
   "number_sections": false,
   "sideBar": true,
   "skip_h1_title": false,
   "title_cell": "Table of Contents",
   "title_sidebar": "Contents",
   "toc_cell": false,
   "toc_position": {
    "height": "calc(100% - 180px)",
    "left": "10px",
    "top": "150px",
    "width": "253.333px"
   },
   "toc_section_display": true,
   "toc_window_display": true
  }
 },
 "nbformat": 4,
 "nbformat_minor": 5
}
